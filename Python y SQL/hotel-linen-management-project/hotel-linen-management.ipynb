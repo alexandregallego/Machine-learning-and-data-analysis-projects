{
 "cells": [
  {
   "cell_type": "markdown",
   "metadata": {},
   "source": [
    "# Data engineering - Linen Assignment (Alexandre Gallego Mato)"
   ]
  },
  {
   "cell_type": "markdown",
   "metadata": {},
   "source": [
    "## Creating the connection with the SQL server"
   ]
  },
  {
   "cell_type": "code",
   "execution_count": 1,
   "metadata": {},
   "outputs": [],
   "source": [
    "# Use this one for database access\n",
    "import pyodbc\n",
    "\n",
    "import pandas as pd\n",
    "import numpy as np\n",
    "\n",
    "import seaborn as sns\n",
    "from matplotlib import pyplot as plt\n",
    "from matplotlib import dates\n",
    "\n",
    "# Convert columns day/hour/minute/second into datetime\n",
    "def getTime(row):\n",
    "    return datetime.strptime(\\\n",
    "        '2019-06-' + str(int(row['day'])) + ' ' + \\\n",
    "        str(int(row['hour'])) + ':' + str(int(row['minute'])) + ':' + str(int(row['second'])),\\\n",
    "        '%Y-%m-%d %H:%M:%S'\\\n",
    "    )\n",
    "\n",
    "# -------------------------------------------------\n",
    "# Connect to the database\n",
    "# -------------------------------------------------        \n",
    "def connectDB():\n",
    "    driver = 'SQL Server'\n",
    "    server = 'ieserver.database.windows.net'\n",
    "    db = 'LossLessLinenDB'\n",
    "    user = 'student'\n",
    "    password = 'IELab01!'\n",
    "    connection = pyodbc.connect('driver={%s};server=%s;database=%s;uid=%s;pwd=%s' % (driver, server, db, user, password ))\n",
    "        \n",
    "    return connection\n",
    "\n",
    "# -------------------------------------------------\n",
    "# Return the result of a SQL query as a dataframe\n",
    "# -------------------------------------------------    \n",
    "def executeSQL(connection, SQLSentence):\n",
    "    df = pd.read_sql_query(SQLSentence, connection)\n",
    "    return df\n"
   ]
  },
  {
   "cell_type": "markdown",
   "metadata": {},
   "source": [
    "## Creation of SQL functions in Python\n",
    "\n",
    "These functions will provide us the following information: number of distinct tag readings per cycle in the **soiled** proces, number of distinct tagreadings per cycle in the **clean** cycle and the number of distinct readings per process selected. This will enable us to compare the total aggregated number of readings per cycle with each of the readings per process. If the difference is higher or equal to 30%, the cycle is a misleading cycle as specified in the statement. For the assignment as is going to be specified below, I have picked the hotel with id **2480**."
   ]
  },
  {
   "cell_type": "code",
   "execution_count": 2,
   "metadata": {},
   "outputs": [],
   "source": [
    "# Function to retrieve the total distinct readings per soiled cycle between the dates specified in the where clause\n",
    "\n",
    "def total_soiled_cycle_readingsQuery(hotelId):\n",
    "    query = f\"\"\"\n",
    "    SELECT COUNT(DISTINCT tr.TagId)AS differenttagreadings, r.BatchNum, r.FacilityId\n",
    "    FROM TagReadings tr\n",
    "    INNER JOIN Readings r ON tr.ReadingId = r.Id\n",
    "    INNER JOIN ReadingStatus rs ON r.ReadingStatusId = rs.Id\n",
    "    INNER Join Facilities f ON f.Id = r.FacilityId\n",
    "    WHERE r.ReadingDate BETWEEN '2020-03-01' AND '2020-03-15'\n",
    "    AND(f.Id = {hotelId})\n",
    "    AND (rs.Code BETWEEN 1 AND 4)\n",
    "    GROUP BY r.BatchNum, r.FacilityId\n",
    "    \"\"\"\n",
    "\n",
    "    return query"
   ]
  },
  {
   "cell_type": "code",
   "execution_count": 3,
   "metadata": {},
   "outputs": [],
   "source": [
    "# Function to retrieve the total distinct readings pero cleaned cycle between the dates specified in the where clause\n",
    "\n",
    "def total_clean_cycle_readingsQuery(hotelId):\n",
    "    query3 = f\"\"\"\n",
    "    SELECT COUNT(DISTINCT tr.TagId)AS differenttagreadings, r.BatchNum, r.FacilityId\n",
    "    FROM TagReadings tr\n",
    "    INNER JOIN Readings r ON tr.ReadingId = r.Id\n",
    "    INNER JOIN ReadingStatus rs ON r.ReadingStatusId = rs.Id\n",
    "    INNER Join Facilities f ON f.Id = r.FacilityId\n",
    "    WHERE r.ReadingDate BETWEEN '2020-03-01' AND '2020-03-15'\n",
    "    AND(f.Id = {hotelId})\n",
    "    AND (rs.Code IN (5,6,7,0))\n",
    "    GROUP BY r.BatchNum, r.FacilityId\n",
    "    \"\"\"\n",
    "\n",
    "    return query3"
   ]
  },
  {
   "cell_type": "code",
   "execution_count": 4,
   "metadata": {},
   "outputs": [],
   "source": [
    "# Function to retrieve the total distinct readings per process between the dates specified in the where clause\n",
    "\n",
    "def different_processes_readings(hotelId, process_number):\n",
    "    query2 = f\"\"\"\n",
    "    SELECT COUNT(DISTINCT tr.TagId)AS differenttagreadings{process_number}, r.BatchNum\n",
    "    FROM TagReadings tr\n",
    "    INNER JOIN Readings r ON tr.ReadingId = r.Id\n",
    "    INNER JOIN ReadingStatus rs ON r.ReadingStatusId = rs.Id\n",
    "    INNER Join Facilities f ON f.Id = r.FacilityId\n",
    "    WHERE r.ReadingDate BETWEEN '2020-03-01' AND '2020-03-15'\n",
    "    AND(f.Id = {hotelId})\n",
    "    AND (rs.Code = {process_number})\n",
    "    GROUP BY r.BatchNum, r.FacilityId, rs.Code\n",
    "    \"\"\"\n",
    "    return query2\n",
    "    "
   ]
  },
  {
   "cell_type": "markdown",
   "metadata": {},
   "source": [
    "## EXTRACTING THE DIFFERENT TAG READINGS FOR THE SOILED CYCLE OF HOTEL 2480"
   ]
  },
  {
   "cell_type": "code",
   "execution_count": 5,
   "metadata": {},
   "outputs": [
    {
     "name": "stdout",
     "output_type": "stream",
     "text": [
      "    differenttagreadings               BatchNum  FacilityId\n",
      "0                    178  zz20200301000000S2480        2480\n",
      "1                    148  zz20200302000000S2480        2480\n",
      "2                     79  zz20200303000000S2480        2480\n",
      "3                    143  zz20200304000000S2480        2480\n",
      "4                    156  zz20200305000000S2480        2480\n",
      "5                    158  zz20200306000000S2480        2480\n",
      "6                    125  zz20200307000000S2480        2480\n",
      "7                    190  zz20200308000000S2480        2480\n",
      "8                    253  zz20200309000000S2480        2480\n",
      "9                    147  zz20200310000000S2480        2480\n",
      "10                   189  zz20200311000000S2480        2480\n",
      "11                   122  zz20200312000000S2480        2480\n",
      "12                   185  zz20200313000000S2480        2480\n",
      "13                   129  zz20200314000000S2480        2480\n"
     ]
    }
   ],
   "source": [
    "c = connectDB()\n",
    "\n",
    "total_readings_in_soiled_batch = executeSQL(c, total_soiled_cycle_readingsQuery(2480))\n",
    "\n",
    "print(total_readings_in_soiled_batch)"
   ]
  },
  {
   "cell_type": "markdown",
   "metadata": {},
   "source": [
    "## EXTRACTING THE READINGS OF DIFFERENT CYCLES IN PROCESS 1 OF HOTEL 2480"
   ]
  },
  {
   "cell_type": "code",
   "execution_count": 6,
   "metadata": {},
   "outputs": [
    {
     "name": "stdout",
     "output_type": "stream",
     "text": [
      "    differenttagreadings1               BatchNum\n",
      "0                      78  zz20200303000000S2480\n",
      "1                     143  zz20200304000000S2480\n",
      "2                     153  zz20200305000000S2480\n",
      "3                     158  zz20200306000000S2480\n",
      "4                     124  zz20200307000000S2480\n",
      "5                     171  zz20200308000000S2480\n",
      "6                     247  zz20200309000000S2480\n",
      "7                     142  zz20200310000000S2480\n",
      "8                     185  zz20200311000000S2480\n",
      "9                     121  zz20200312000000S2480\n",
      "10                    174  zz20200313000000S2480\n",
      "11                    129  zz20200314000000S2480\n"
     ]
    }
   ],
   "source": [
    "readings_of_code_1 = executeSQL(c, different_processes_readings(2480, 1))\n",
    "print(readings_of_code_1)"
   ]
  },
  {
   "cell_type": "markdown",
   "metadata": {},
   "source": [
    "## EXTRACTING THE READINGS OF DIFFERENT CYCLES IN PROCESS 2 OF HOTEL 2480"
   ]
  },
  {
   "cell_type": "code",
   "execution_count": 7,
   "metadata": {},
   "outputs": [
    {
     "name": "stdout",
     "output_type": "stream",
     "text": [
      "    differenttagreadings2               BatchNum\n",
      "0                     168  zz20200301000000S2480\n",
      "1                     145  zz20200302000000S2480\n",
      "2                     142  zz20200304000000S2480\n",
      "3                     150  zz20200305000000S2480\n",
      "4                     148  zz20200306000000S2480\n",
      "5                     121  zz20200307000000S2480\n",
      "6                     244  zz20200309000000S2480\n",
      "7                     134  zz20200310000000S2480\n",
      "8                     184  zz20200311000000S2480\n",
      "9                     119  zz20200312000000S2480\n",
      "10                    171  zz20200313000000S2480\n",
      "11                    110  zz20200314000000S2480\n"
     ]
    }
   ],
   "source": [
    "readings_of_code_2 = executeSQL(c, different_processes_readings(2480, 2))\n",
    "print(readings_of_code_2)"
   ]
  },
  {
   "cell_type": "markdown",
   "metadata": {},
   "source": [
    "## EXTRACTING THE READINGS OF DIFFERENT CYCLES IN PROCESS 3 OF HOTEL 2480"
   ]
  },
  {
   "cell_type": "code",
   "execution_count": 8,
   "metadata": {},
   "outputs": [
    {
     "name": "stdout",
     "output_type": "stream",
     "text": [
      "   differenttagreadings3               BatchNum\n",
      "0                     76  zz20200303000000S2480\n",
      "1                    137  zz20200305000000S2480\n"
     ]
    }
   ],
   "source": [
    "readings_of_code_3 = executeSQL(c, different_processes_readings(2480, 3))\n",
    "print(readings_of_code_3)"
   ]
  },
  {
   "cell_type": "markdown",
   "metadata": {},
   "source": [
    "## EXTRACTING THE READINGS OF DIFFERENT CYCLES IN PROCESS 4 OF HOTEL 2480"
   ]
  },
  {
   "cell_type": "code",
   "execution_count": 9,
   "metadata": {},
   "outputs": [
    {
     "name": "stdout",
     "output_type": "stream",
     "text": [
      "    differenttagreadings4               BatchNum\n",
      "0                     177  zz20200301000000S2480\n",
      "1                     146  zz20200302000000S2480\n",
      "2                      76  zz20200303000000S2480\n",
      "3                     149  zz20200306000000S2480\n",
      "4                     121  zz20200307000000S2480\n",
      "5                     169  zz20200308000000S2480\n",
      "6                     227  zz20200309000000S2480\n",
      "7                     140  zz20200310000000S2480\n",
      "8                     183  zz20200311000000S2480\n",
      "9                     113  zz20200312000000S2480\n",
      "10                    170  zz20200313000000S2480\n",
      "11                    114  zz20200314000000S2480\n"
     ]
    }
   ],
   "source": [
    "readings_of_code_4 = executeSQL(c, different_processes_readings(2480, 4))\n",
    "print(readings_of_code_4)"
   ]
  },
  {
   "cell_type": "markdown",
   "metadata": {},
   "source": [
    "## Definition of functions for data preparation\n",
    "\n",
    "The following functions will do the following: merge the different dataframes of the soiled and cleaned cycle, in order to have all the relevant data within one dataframe to perform the calculations mentioned before. The second function, once the data is prepared, will perform the absolute percentage difference between the total distinct tag-readings in the cycle and the total number of distinct tag-readings of each process. Once we know this difference, the third function will give us the misleading cycles based on the criteria specified previously."
   ]
  },
  {
   "cell_type": "code",
   "execution_count": 10,
   "metadata": {},
   "outputs": [
    {
     "name": "stdout",
     "output_type": "stream",
     "text": [
      "    differenttagreadings               BatchNum  FacilityId  \\\n",
      "0                    178  zz20200301000000S2480        2480   \n",
      "1                    148  zz20200302000000S2480        2480   \n",
      "2                     79  zz20200303000000S2480        2480   \n",
      "3                    143  zz20200304000000S2480        2480   \n",
      "4                    156  zz20200305000000S2480        2480   \n",
      "5                    158  zz20200306000000S2480        2480   \n",
      "6                    125  zz20200307000000S2480        2480   \n",
      "7                    190  zz20200308000000S2480        2480   \n",
      "8                    253  zz20200309000000S2480        2480   \n",
      "9                    147  zz20200310000000S2480        2480   \n",
      "10                   189  zz20200311000000S2480        2480   \n",
      "11                   122  zz20200312000000S2480        2480   \n",
      "12                   185  zz20200313000000S2480        2480   \n",
      "13                   129  zz20200314000000S2480        2480   \n",
      "\n",
      "    differenttagreadings1  differenttagreadings2  differenttagreadings3  \\\n",
      "0                     0.0                  168.0                    0.0   \n",
      "1                     0.0                  145.0                    0.0   \n",
      "2                    78.0                    0.0                   76.0   \n",
      "3                   143.0                  142.0                    0.0   \n",
      "4                   153.0                  150.0                  137.0   \n",
      "5                   158.0                  148.0                    0.0   \n",
      "6                   124.0                  121.0                    0.0   \n",
      "7                   171.0                    0.0                    0.0   \n",
      "8                   247.0                  244.0                    0.0   \n",
      "9                   142.0                  134.0                    0.0   \n",
      "10                  185.0                  184.0                    0.0   \n",
      "11                  121.0                  119.0                    0.0   \n",
      "12                  174.0                  171.0                    0.0   \n",
      "13                  129.0                  110.0                    0.0   \n",
      "\n",
      "    differenttagreadings4  (total_cycle_readings - process1_readings)%  \\\n",
      "0                   177.0                                       100.00   \n",
      "1                   146.0                                       100.00   \n",
      "2                    76.0                                         1.27   \n",
      "3                     0.0                                         0.00   \n",
      "4                     0.0                                         1.92   \n",
      "5                   149.0                                         0.00   \n",
      "6                   121.0                                         0.80   \n",
      "7                   169.0                                        10.00   \n",
      "8                   227.0                                         2.37   \n",
      "9                   140.0                                         3.40   \n",
      "10                  183.0                                         2.12   \n",
      "11                  113.0                                         0.82   \n",
      "12                  170.0                                         5.95   \n",
      "13                  114.0                                         0.00   \n",
      "\n",
      "    (total_cycle_readings - process2_readings)%  \\\n",
      "0                                          5.62   \n",
      "1                                          2.03   \n",
      "2                                        100.00   \n",
      "3                                          0.70   \n",
      "4                                          3.85   \n",
      "5                                          6.33   \n",
      "6                                          3.20   \n",
      "7                                        100.00   \n",
      "8                                          3.56   \n",
      "9                                          8.84   \n",
      "10                                         2.65   \n",
      "11                                         2.46   \n",
      "12                                         7.57   \n",
      "13                                        14.73   \n",
      "\n",
      "    (total_cycle_readings - process3_readings)%  \\\n",
      "0                                        100.00   \n",
      "1                                        100.00   \n",
      "2                                          3.80   \n",
      "3                                        100.00   \n",
      "4                                         12.18   \n",
      "5                                        100.00   \n",
      "6                                        100.00   \n",
      "7                                        100.00   \n",
      "8                                        100.00   \n",
      "9                                        100.00   \n",
      "10                                       100.00   \n",
      "11                                       100.00   \n",
      "12                                       100.00   \n",
      "13                                       100.00   \n",
      "\n",
      "    (total_cycle_readings - process4_readings)%  \n",
      "0                                          0.56  \n",
      "1                                          1.35  \n",
      "2                                          3.80  \n",
      "3                                        100.00  \n",
      "4                                        100.00  \n",
      "5                                          5.70  \n",
      "6                                          3.20  \n",
      "7                                         11.05  \n",
      "8                                         10.28  \n",
      "9                                          4.76  \n",
      "10                                         3.17  \n",
      "11                                         7.38  \n",
      "12                                         8.11  \n",
      "13                                        11.63  \n"
     ]
    }
   ],
   "source": [
    "# function to merge all the relevant data within one dataframe\n",
    "\n",
    "def merge_function(left_dataframe, right_dataframe, column_to_join, join):\n",
    "    \n",
    "    merged_dataframe = left_dataframe.merge(right_dataframe, on = column_to_join, how = join)\n",
    "    \n",
    "    return merged_dataframe\n",
    "\n",
    "\n",
    "cycle_readings = merge_function(total_readings_in_soiled_batch, readings_of_code_1, \"BatchNum\", \"left\")\n",
    "\n",
    "cycle_readings = merge_function(cycle_readings, readings_of_code_2, \"BatchNum\", \"left\")\n",
    "\n",
    "cycle_readings = merge_function(cycle_readings, readings_of_code_3, \"BatchNum\", \"left\")\n",
    "\n",
    "cycle_readings = merge_function(cycle_readings, readings_of_code_4, \"BatchNum\", \"left\")\n",
    "\n",
    "cycle_readings = cycle_readings.fillna(0)\n",
    "\n",
    "#print(cycle_readings)\n",
    "\n",
    "# function to calculate the absolute percentage difference needed to detect the misleading cycles\n",
    "\n",
    "def absolute_percentage_difference_dataframe(dataframe, column1, column2, new_column):\n",
    "    \n",
    "    dataframe[new_column] = round(abs((dataframe[column1] - dataframe[column2])/dataframe[column1]) * 100,2)\n",
    "    \n",
    "    return dataframe\n",
    "\n",
    "dataframe_complete = absolute_percentage_difference_dataframe(cycle_readings, \"differenttagreadings\", \"differenttagreadings1\", \"(total_cycle_readings - process1_readings)%\")\n",
    "\n",
    "dataframe_complete = absolute_percentage_difference_dataframe(cycle_readings, \"differenttagreadings\", \"differenttagreadings2\", \"(total_cycle_readings - process2_readings)%\")\n",
    "\n",
    "dataframe_complete = absolute_percentage_difference_dataframe(cycle_readings, \"differenttagreadings\", \"differenttagreadings3\", \"(total_cycle_readings - process3_readings)%\")\n",
    "\n",
    "dataframe_complete = absolute_percentage_difference_dataframe(cycle_readings, \"differenttagreadings\", \"differenttagreadings4\", \"(total_cycle_readings - process4_readings)%\")\n",
    "\n",
    "print (cycle_readings)\n",
    "\n",
    "misleading_cycles = []\n",
    "\n",
    "# function to identify the misleading cycles\n",
    "\n",
    "def list_of_misleading_cycles(dataframe, column_value, column_cycle):\n",
    "    \n",
    "    for i in range(0, len(dataframe[column_value])):\n",
    "        if dataframe[column_value][i] >= 30.00 and dataframe[column_cycle][i] not in misleading_cycles:\n",
    "            misleading_cycles.append(dataframe[column_cycle][i])\n",
    "    \n",
    "    return misleading_cycles"
   ]
  },
  {
   "cell_type": "code",
   "execution_count": 11,
   "metadata": {},
   "outputs": [
    {
     "name": "stdout",
     "output_type": "stream",
     "text": [
      "['zz20200301000000S2480', 'zz20200302000000S2480', 'zz20200303000000S2480', 'zz20200308000000S2480', 'zz20200304000000S2480', 'zz20200306000000S2480', 'zz20200307000000S2480', 'zz20200309000000S2480', 'zz20200310000000S2480', 'zz20200311000000S2480', 'zz20200312000000S2480', 'zz20200313000000S2480', 'zz20200314000000S2480', 'zz20200305000000S2480']\n",
      "14\n"
     ]
    }
   ],
   "source": [
    "misleading_cycles_soiled = list_of_misleading_cycles(cycle_readings, \"(total_cycle_readings - process1_readings)%\", \"BatchNum\")\n",
    "\n",
    "misleading_cycles_soiled = list_of_misleading_cycles(cycle_readings, \"(total_cycle_readings - process2_readings)%\", \"BatchNum\")\n",
    "\n",
    "misleading_cycles_soiled = list_of_misleading_cycles(cycle_readings, \"(total_cycle_readings - process3_readings)%\", \"BatchNum\")\n",
    "\n",
    "misleading_cycles_soiled = list_of_misleading_cycles(cycle_readings, \"(total_cycle_readings - process4_readings)%\", \"BatchNum\")\n",
    "\n",
    "print(misleading_cycles_soiled)\n",
    "\n",
    "print(len(misleading_cycles_soiled))"
   ]
  },
  {
   "cell_type": "markdown",
   "metadata": {},
   "source": [
    "## Misleading soiled cycles for hotel 2480\n",
    "\n",
    "As it can be seen in the following dataframe, every cycle within the soiled cycles has some errors on its readings for the different processes. In this specific case, the process 3 is the one with higher number of misleading readings since only two cycles have a difference less than 30%, the rest of them is of 100%."
   ]
  },
  {
   "cell_type": "code",
   "execution_count": 12,
   "metadata": {},
   "outputs": [
    {
     "name": "stdout",
     "output_type": "stream",
     "text": [
      "   Misleading soiled cycles\n",
      "0     zz20200301000000S2480\n",
      "1     zz20200302000000S2480\n",
      "2     zz20200303000000S2480\n",
      "3     zz20200308000000S2480\n",
      "4     zz20200304000000S2480\n",
      "5     zz20200306000000S2480\n",
      "6     zz20200307000000S2480\n",
      "7     zz20200309000000S2480\n",
      "8     zz20200310000000S2480\n",
      "9     zz20200311000000S2480\n",
      "10    zz20200312000000S2480\n",
      "11    zz20200313000000S2480\n",
      "12    zz20200314000000S2480\n",
      "13    zz20200305000000S2480\n"
     ]
    }
   ],
   "source": [
    "soiled_misleading_cycles = pd.DataFrame(misleading_cycles_soiled, columns = [\"Misleading soiled cycles\"])\n",
    "\n",
    "print(soiled_misleading_cycles)"
   ]
  },
  {
   "cell_type": "markdown",
   "metadata": {},
   "source": [
    "## CLEAN CYCLES\n",
    "\n",
    "The same process followed for the soiled cycles is applied to the cleaning cycles."
   ]
  },
  {
   "cell_type": "code",
   "execution_count": 13,
   "metadata": {},
   "outputs": [
    {
     "name": "stdout",
     "output_type": "stream",
     "text": [
      "    differenttagreadings               BatchNum  FacilityId\n",
      "0                    220  zz20200301000000C2480        2480\n",
      "1                    169  zz20200302000000C2480        2480\n",
      "2                    172  zz20200303000000C2480        2480\n",
      "3                     88  zz20200304000000C2480        2480\n",
      "4                    166  zz20200305000000C2480        2480\n",
      "5                    153  zz20200306000000C2480        2480\n",
      "6                    156  zz20200307000000C2480        2480\n",
      "7                    298  zz20200308000000C2480        2480\n",
      "8                    166  zz20200309000000C2480        2480\n",
      "9                    241  zz20200310000000C2480        2480\n",
      "10                   151  zz20200311000000C2480        2480\n",
      "11                   184  zz20200312000000C2480        2480\n",
      "12                   127  zz20200313000000C2480        2480\n",
      "13                   190  zz20200314000000C2480        2480\n"
     ]
    }
   ],
   "source": [
    "total_readings_in_clean_batch = executeSQL(c, total_clean_cycle_readingsQuery(2480))\n",
    "\n",
    "print(total_readings_in_clean_batch)"
   ]
  },
  {
   "cell_type": "code",
   "execution_count": 14,
   "metadata": {},
   "outputs": [
    {
     "name": "stdout",
     "output_type": "stream",
     "text": [
      "    differenttagreadings0               BatchNum\n",
      "0                     169  zz20200302000000C2480\n",
      "1                     144  zz20200303000000C2480\n",
      "2                      88  zz20200304000000C2480\n",
      "3                     140  zz20200305000000C2480\n",
      "4                     153  zz20200306000000C2480\n",
      "5                     153  zz20200307000000C2480\n",
      "6                     128  zz20200308000000C2480\n",
      "7                     162  zz20200309000000C2480\n",
      "8                     241  zz20200310000000C2480\n",
      "9                     150  zz20200311000000C2480\n",
      "10                    184  zz20200312000000C2480\n",
      "11                    121  zz20200313000000C2480\n",
      "12                    190  zz20200314000000C2480\n"
     ]
    }
   ],
   "source": [
    "readings_of_code_0 = executeSQL(c, different_processes_readings(2480, 0))\n",
    "print(readings_of_code_0)"
   ]
  },
  {
   "cell_type": "code",
   "execution_count": 15,
   "metadata": {},
   "outputs": [
    {
     "name": "stdout",
     "output_type": "stream",
     "text": [
      "    differenttagreadings5               BatchNum\n",
      "0                     218  zz20200301000000C2480\n",
      "1                     148  zz20200302000000C2480\n",
      "2                     166  zz20200303000000C2480\n",
      "3                      86  zz20200304000000C2480\n",
      "4                     153  zz20200305000000C2480\n",
      "5                     151  zz20200306000000C2480\n",
      "6                     142  zz20200307000000C2480\n",
      "7                     128  zz20200308000000C2480\n",
      "8                     155  zz20200309000000C2480\n",
      "9                     231  zz20200310000000C2480\n",
      "10                    148  zz20200311000000C2480\n",
      "11                    180  zz20200312000000C2480\n",
      "12                    121  zz20200313000000C2480\n",
      "13                    180  zz20200314000000C2480\n"
     ]
    }
   ],
   "source": [
    "readings_of_code_5 = executeSQL(c, different_processes_readings(2480, 5))\n",
    "print(readings_of_code_5)"
   ]
  },
  {
   "cell_type": "code",
   "execution_count": 16,
   "metadata": {},
   "outputs": [
    {
     "name": "stdout",
     "output_type": "stream",
     "text": [
      "   differenttagreadings6               BatchNum\n",
      "0                    147  zz20200302000000C2480\n",
      "1                    150  zz20200303000000C2480\n"
     ]
    }
   ],
   "source": [
    "readings_of_code_6 = executeSQL(c, different_processes_readings(2480, 6))\n",
    "print(readings_of_code_6)"
   ]
  },
  {
   "cell_type": "code",
   "execution_count": 17,
   "metadata": {},
   "outputs": [
    {
     "name": "stdout",
     "output_type": "stream",
     "text": [
      "    differenttagreadings7               BatchNum\n",
      "0                     192  zz20200301000000C2480\n",
      "1                     149  zz20200302000000C2480\n",
      "2                      85  zz20200304000000C2480\n",
      "3                     145  zz20200305000000C2480\n",
      "4                     151  zz20200306000000C2480\n",
      "5                     148  zz20200307000000C2480\n",
      "6                     287  zz20200308000000C2480\n",
      "7                     158  zz20200309000000C2480\n",
      "8                     182  zz20200310000000C2480\n",
      "9                     150  zz20200311000000C2480\n",
      "10                    182  zz20200312000000C2480\n",
      "11                    119  zz20200313000000C2480\n",
      "12                    181  zz20200314000000C2480\n"
     ]
    }
   ],
   "source": [
    "readings_of_code_7 = executeSQL(c, different_processes_readings(2480, 7))\n",
    "print(readings_of_code_7)"
   ]
  },
  {
   "cell_type": "markdown",
   "metadata": {},
   "source": [
    "## Creating the dataframe including all clean processes per cycle"
   ]
  },
  {
   "cell_type": "code",
   "execution_count": 18,
   "metadata": {},
   "outputs": [
    {
     "name": "stdout",
     "output_type": "stream",
     "text": [
      "    differenttagreadings               BatchNum  FacilityId  \\\n",
      "0                    220  zz20200301000000C2480        2480   \n",
      "1                    169  zz20200302000000C2480        2480   \n",
      "2                    172  zz20200303000000C2480        2480   \n",
      "3                     88  zz20200304000000C2480        2480   \n",
      "4                    166  zz20200305000000C2480        2480   \n",
      "5                    153  zz20200306000000C2480        2480   \n",
      "6                    156  zz20200307000000C2480        2480   \n",
      "7                    298  zz20200308000000C2480        2480   \n",
      "8                    166  zz20200309000000C2480        2480   \n",
      "9                    241  zz20200310000000C2480        2480   \n",
      "10                   151  zz20200311000000C2480        2480   \n",
      "11                   184  zz20200312000000C2480        2480   \n",
      "12                   127  zz20200313000000C2480        2480   \n",
      "13                   190  zz20200314000000C2480        2480   \n",
      "\n",
      "    differenttagreadings5  differenttagreadings0  differenttagreadings6  \\\n",
      "0                     218                    0.0                    0.0   \n",
      "1                     148                  169.0                  147.0   \n",
      "2                     166                  144.0                  150.0   \n",
      "3                      86                   88.0                    0.0   \n",
      "4                     153                  140.0                    0.0   \n",
      "5                     151                  153.0                    0.0   \n",
      "6                     142                  153.0                    0.0   \n",
      "7                     128                  128.0                    0.0   \n",
      "8                     155                  162.0                    0.0   \n",
      "9                     231                  241.0                    0.0   \n",
      "10                    148                  150.0                    0.0   \n",
      "11                    180                  184.0                    0.0   \n",
      "12                    121                  121.0                    0.0   \n",
      "13                    180                  190.0                    0.0   \n",
      "\n",
      "    differenttagreadings7  \n",
      "0                   192.0  \n",
      "1                   149.0  \n",
      "2                     0.0  \n",
      "3                    85.0  \n",
      "4                   145.0  \n",
      "5                   151.0  \n",
      "6                   148.0  \n",
      "7                   287.0  \n",
      "8                   158.0  \n",
      "9                   182.0  \n",
      "10                  150.0  \n",
      "11                  182.0  \n",
      "12                  119.0  \n",
      "13                  181.0  \n"
     ]
    }
   ],
   "source": [
    "# preparing the dataframe with all the relevant data\n",
    "\n",
    "cycle_readings_clean = merge_function(total_readings_in_clean_batch, readings_of_code_5, \"BatchNum\", \"left\")\n",
    "\n",
    "cycle_readings_clean = merge_function(cycle_readings_clean, readings_of_code_0, \"BatchNum\", \"left\")\n",
    "\n",
    "cycle_readings_clean = merge_function(cycle_readings_clean, readings_of_code_6, \"BatchNum\", \"left\")\n",
    "\n",
    "cycle_readings_clean = merge_function(cycle_readings_clean, readings_of_code_7, \"BatchNum\", \"left\")\n",
    "\n",
    "cycle_readings_clean = cycle_readings_clean.fillna(0)\n",
    "\n",
    "print(cycle_readings_clean)\n"
   ]
  },
  {
   "cell_type": "code",
   "execution_count": 19,
   "metadata": {},
   "outputs": [
    {
     "name": "stdout",
     "output_type": "stream",
     "text": [
      "    differenttagreadings               BatchNum  FacilityId  \\\n",
      "0                    220  zz20200301000000C2480        2480   \n",
      "1                    169  zz20200302000000C2480        2480   \n",
      "2                    172  zz20200303000000C2480        2480   \n",
      "3                     88  zz20200304000000C2480        2480   \n",
      "4                    166  zz20200305000000C2480        2480   \n",
      "5                    153  zz20200306000000C2480        2480   \n",
      "6                    156  zz20200307000000C2480        2480   \n",
      "7                    298  zz20200308000000C2480        2480   \n",
      "8                    166  zz20200309000000C2480        2480   \n",
      "9                    241  zz20200310000000C2480        2480   \n",
      "10                   151  zz20200311000000C2480        2480   \n",
      "11                   184  zz20200312000000C2480        2480   \n",
      "12                   127  zz20200313000000C2480        2480   \n",
      "13                   190  zz20200314000000C2480        2480   \n",
      "\n",
      "    differenttagreadings5  differenttagreadings0  differenttagreadings6  \\\n",
      "0                     218                    0.0                    0.0   \n",
      "1                     148                  169.0                  147.0   \n",
      "2                     166                  144.0                  150.0   \n",
      "3                      86                   88.0                    0.0   \n",
      "4                     153                  140.0                    0.0   \n",
      "5                     151                  153.0                    0.0   \n",
      "6                     142                  153.0                    0.0   \n",
      "7                     128                  128.0                    0.0   \n",
      "8                     155                  162.0                    0.0   \n",
      "9                     231                  241.0                    0.0   \n",
      "10                    148                  150.0                    0.0   \n",
      "11                    180                  184.0                    0.0   \n",
      "12                    121                  121.0                    0.0   \n",
      "13                    180                  190.0                    0.0   \n",
      "\n",
      "    differenttagreadings7  (total_cycle_readings - process5_readings)%  \\\n",
      "0                   192.0                                         0.91   \n",
      "1                   149.0                                        12.43   \n",
      "2                     0.0                                         3.49   \n",
      "3                    85.0                                         2.27   \n",
      "4                   145.0                                         7.83   \n",
      "5                   151.0                                         1.31   \n",
      "6                   148.0                                         8.97   \n",
      "7                   287.0                                        57.05   \n",
      "8                   158.0                                         6.63   \n",
      "9                   182.0                                         4.15   \n",
      "10                  150.0                                         1.99   \n",
      "11                  182.0                                         2.17   \n",
      "12                  119.0                                         4.72   \n",
      "13                  181.0                                         5.26   \n",
      "\n",
      "    (total_cycle_readings - process6_readings)%  \\\n",
      "0                                        100.00   \n",
      "1                                         13.02   \n",
      "2                                         12.79   \n",
      "3                                        100.00   \n",
      "4                                        100.00   \n",
      "5                                        100.00   \n",
      "6                                        100.00   \n",
      "7                                        100.00   \n",
      "8                                        100.00   \n",
      "9                                        100.00   \n",
      "10                                       100.00   \n",
      "11                                       100.00   \n",
      "12                                       100.00   \n",
      "13                                       100.00   \n",
      "\n",
      "    (total_cycle_readings - process7_readings)%  \\\n",
      "0                                         12.73   \n",
      "1                                         11.83   \n",
      "2                                        100.00   \n",
      "3                                          3.41   \n",
      "4                                         12.65   \n",
      "5                                          1.31   \n",
      "6                                          5.13   \n",
      "7                                          3.69   \n",
      "8                                          4.82   \n",
      "9                                         24.48   \n",
      "10                                         0.66   \n",
      "11                                         1.09   \n",
      "12                                         6.30   \n",
      "13                                         4.74   \n",
      "\n",
      "    (total_cycle_readings - process0_readings)%  \n",
      "0                                        100.00  \n",
      "1                                          0.00  \n",
      "2                                         16.28  \n",
      "3                                          0.00  \n",
      "4                                         15.66  \n",
      "5                                          0.00  \n",
      "6                                          1.92  \n",
      "7                                         57.05  \n",
      "8                                          2.41  \n",
      "9                                          0.00  \n",
      "10                                         0.66  \n",
      "11                                         0.00  \n",
      "12                                         4.72  \n",
      "13                                         0.00  \n",
      "['differenttagreadings', 'BatchNum', 'FacilityId', 'differenttagreadings5', 'differenttagreadings0', 'differenttagreadings6', 'differenttagreadings7', '(total_cycle_readings - process5_readings)%', '(total_cycle_readings - process6_readings)%', '(total_cycle_readings - process7_readings)%', '(total_cycle_readings - process0_readings)%']\n"
     ]
    }
   ],
   "source": [
    "# calculating the absolute percentage difference\n",
    "\n",
    "dataframe_complete_1 = absolute_percentage_difference_dataframe(cycle_readings_clean, \"differenttagreadings\", \"differenttagreadings5\", \"(total_cycle_readings - process5_readings)%\")\n",
    "\n",
    "dataframe_complete_1 = absolute_percentage_difference_dataframe(cycle_readings_clean, \"differenttagreadings\", \"differenttagreadings6\", \"(total_cycle_readings - process6_readings)%\")\n",
    "\n",
    "dataframe_complete_1 = absolute_percentage_difference_dataframe(cycle_readings_clean, \"differenttagreadings\", \"differenttagreadings7\", \"(total_cycle_readings - process7_readings)%\")\n",
    "\n",
    "dataframe_complete_1 = absolute_percentage_difference_dataframe(cycle_readings_clean, \"differenttagreadings\", \"differenttagreadings0\", \"(total_cycle_readings - process0_readings)%\")\n",
    "\n",
    "print(dataframe_complete_1)\n",
    "\n",
    "print(dataframe_complete_1.columns.to_list())\n"
   ]
  },
  {
   "cell_type": "code",
   "execution_count": 20,
   "metadata": {},
   "outputs": [],
   "source": [
    "# defining the function to calculate the misleading cycles in the cleaning cycles\n",
    "\n",
    "clean_misleading_cycles = []\n",
    "\n",
    "def list_of_clean_misleading_cycles(dataframe, column_value, column_cycle):\n",
    "    \n",
    "    for i in range(0, len(dataframe[column_value])):\n",
    "       if dataframe[column_value][i] >= 30.00 and dataframe[column_cycle][i] not in clean_misleading_cycles:\n",
    "            clean_misleading_cycles.append(dataframe[column_cycle][i])\n",
    "    \n",
    "    return clean_misleading_cycles"
   ]
  },
  {
   "cell_type": "code",
   "execution_count": 21,
   "metadata": {},
   "outputs": [
    {
     "name": "stdout",
     "output_type": "stream",
     "text": [
      "['zz20200308000000C2480', 'zz20200301000000C2480', 'zz20200304000000C2480', 'zz20200305000000C2480', 'zz20200306000000C2480', 'zz20200307000000C2480', 'zz20200309000000C2480', 'zz20200310000000C2480', 'zz20200311000000C2480', 'zz20200312000000C2480', 'zz20200313000000C2480', 'zz20200314000000C2480', 'zz20200303000000C2480']\n"
     ]
    }
   ],
   "source": [
    "# retrieval of the misleading cycles\n",
    "\n",
    "misleading_cycles_cleaned = list_of_clean_misleading_cycles(cycle_readings_clean, \"(total_cycle_readings - process5_readings)%\", \"BatchNum\")\n",
    "\n",
    "misleading_cycles_cleaned = list_of_clean_misleading_cycles(cycle_readings_clean, \"(total_cycle_readings - process6_readings)%\", \"BatchNum\")\n",
    "\n",
    "misleading_cycles_cleaned = list_of_clean_misleading_cycles(cycle_readings_clean, \"(total_cycle_readings - process7_readings)%\", \"BatchNum\")\n",
    "\n",
    "misleading_cycles_cleaned = list_of_clean_misleading_cycles(cycle_readings_clean, \"(total_cycle_readings - process0_readings)%\", \"BatchNum\")\n",
    "\n",
    "print(misleading_cycles_cleaned)"
   ]
  },
  {
   "cell_type": "markdown",
   "metadata": {},
   "source": [
    "## Dataframe with the misleading cycles in the cleaning process"
   ]
  },
  {
   "cell_type": "code",
   "execution_count": 22,
   "metadata": {},
   "outputs": [
    {
     "name": "stdout",
     "output_type": "stream",
     "text": [
      "   Misleading cleaning cycles\n",
      "0       zz20200308000000C2480\n",
      "1       zz20200301000000C2480\n",
      "2       zz20200304000000C2480\n",
      "3       zz20200305000000C2480\n",
      "4       zz20200306000000C2480\n",
      "5       zz20200307000000C2480\n",
      "6       zz20200309000000C2480\n",
      "7       zz20200310000000C2480\n",
      "8       zz20200311000000C2480\n",
      "9       zz20200312000000C2480\n",
      "10      zz20200313000000C2480\n",
      "11      zz20200314000000C2480\n",
      "12      zz20200303000000C2480\n"
     ]
    }
   ],
   "source": [
    "cleaning_misleading_cycles = pd.DataFrame(misleading_cycles_cleaned, columns = [\"Misleading cleaning cycles\"])\n",
    "\n",
    "print(cleaning_misleading_cycles)"
   ]
  },
  {
   "cell_type": "markdown",
   "metadata": {},
   "source": [
    "## Final conclusion"
   ]
  },
  {
   "cell_type": "markdown",
   "metadata": {},
   "source": [
    "As it can be seen in this final dataframe, all the cycles within the soiled process for the hotel with id = 2480, had a specific kind of misreading in one of the different processes (1,2,3,4). However, in the cleaning process was different, since one cycle was able to complete all the readings without any significant error (larger than 30%). Taking everything into account, this hotel will need to improve the quality of its readings since most of its cycles had errors in at least one of the processes."
   ]
  },
  {
   "cell_type": "code",
   "execution_count": 23,
   "metadata": {},
   "outputs": [
    {
     "name": "stdout",
     "output_type": "stream",
     "text": [
      "   Misleading soiled cycles Misleading cleaning cycles\n",
      "0     zz20200301000000S2480      zz20200308000000C2480\n",
      "1     zz20200302000000S2480      zz20200301000000C2480\n",
      "2     zz20200303000000S2480      zz20200304000000C2480\n",
      "3     zz20200308000000S2480      zz20200305000000C2480\n",
      "4     zz20200304000000S2480      zz20200306000000C2480\n",
      "5     zz20200306000000S2480      zz20200307000000C2480\n",
      "6     zz20200307000000S2480      zz20200309000000C2480\n",
      "7     zz20200309000000S2480      zz20200310000000C2480\n",
      "8     zz20200310000000S2480      zz20200311000000C2480\n",
      "9     zz20200311000000S2480      zz20200312000000C2480\n",
      "10    zz20200312000000S2480      zz20200313000000C2480\n",
      "11    zz20200313000000S2480      zz20200314000000C2480\n",
      "12    zz20200314000000S2480      zz20200303000000C2480\n",
      "13    zz20200305000000S2480                        NaN\n"
     ]
    }
   ],
   "source": [
    "misleading_cycles = soiled_misleading_cycles.merge(cleaning_misleading_cycles, left_index=True, right_index=True, how=\"left\")\n",
    "\n",
    "print(misleading_cycles)"
   ]
  },
  {
   "cell_type": "code",
   "execution_count": null,
   "metadata": {},
   "outputs": [],
   "source": []
  }
 ],
 "metadata": {
  "kernelspec": {
   "display_name": "Python 3",
   "language": "python",
   "name": "python3"
  },
  "language_info": {
   "codemirror_mode": {
    "name": "ipython",
    "version": 3
   },
   "file_extension": ".py",
   "mimetype": "text/x-python",
   "name": "python",
   "nbconvert_exporter": "python",
   "pygments_lexer": "ipython3",
   "version": "3.7.4"
  }
 },
 "nbformat": 4,
 "nbformat_minor": 2
}
