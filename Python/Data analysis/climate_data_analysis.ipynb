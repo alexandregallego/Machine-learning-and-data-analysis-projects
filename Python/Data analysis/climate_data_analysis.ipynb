{
 "cells": [
  {
   "cell_type": "markdown",
   "metadata": {},
   "source": [
    "## Importing the data\n",
    "\n",
    "First of all, the txt file \"data.txt\" is loaded with pandas in order to start treating the data. As it can be seen, the dates appear with decimals so some transformation will be performed in order to work with proper datetime format."
   ]
  },
  {
   "cell_type": "code",
   "execution_count": 1,
   "metadata": {},
   "outputs": [
    {
     "name": "stdout",
     "output_type": "stream",
     "text": [
      "          StationID  Series      Date  Temperature  Uncertainty  Observations  \\\n",
      "0                 1       1  1986.125      -35.600       0.0500           -99   \n",
      "1                 1       1  1986.208      -53.400       0.0500           -99   \n",
      "2                 1       1  1986.292      -55.300       0.0500           -99   \n",
      "3                 1       1  1986.375      -62.400       0.0500           -99   \n",
      "4                 1       1  1986.458      -63.700       0.0500           -99   \n",
      "...             ...     ...       ...          ...          ...           ...   \n",
      "20599150     611317       1  2019.292      -14.727       0.0673            30   \n",
      "20599151     611317       1  2019.375       -2.846       0.0446            31   \n",
      "20599152     611317       1  2019.458        1.675       0.2506            30   \n",
      "20599153     611317       1  2019.542        8.721       0.5517            31   \n",
      "20599154     611317       1  2019.625        5.664       0.1118            31   \n",
      "\n",
      "          TimeOfObservations  \n",
      "0                        -99  \n",
      "1                        -99  \n",
      "2                        -99  \n",
      "3                        -99  \n",
      "4                        -99  \n",
      "...                      ...  \n",
      "20599150                 -99  \n",
      "20599151                 -99  \n",
      "20599152                 -99  \n",
      "20599153                 -99  \n",
      "20599154                 -99  \n",
      "\n",
      "[20599155 rows x 7 columns]\n"
     ]
    }
   ],
   "source": [
    "import pandas as pd\n",
    "#Loading the datafile \"data.txt\".\n",
    "ds = pd.read_csv('data.txt', sep='\\t', skiprows=111, header=None, names=['StationID', 'Series', 'Date', 'Temperature', 'Uncertainty', 'Observations', 'TimeOfObservations'])\n",
    "print(ds)"
   ]
  },
  {
   "cell_type": "markdown",
   "metadata": {},
   "source": [
    "## Function to transform decimal dates into datetime format\n",
    "\n",
    "In order, to transform decimal dates to datetime the function **convert_decimal_date_to_datetime** is created and applied to the Date column of **ds**, which is the dataframe where the file was loaded."
   ]
  },
  {
   "cell_type": "code",
   "execution_count": 2,
   "metadata": {},
   "outputs": [],
   "source": [
    "import math\n",
    "from datetime import date,timedelta\n",
    "# Function creation. Input is the decimal date and it returns the date as a datetime object.\n",
    "def convert_decimal_date_to_datetime(decimal_date):\n",
    "    \"\"\"Takes a date of 'float' type, and converts it to a proper datetime format\"\"\"\n",
    "    \n",
    "    decimal, year = math.modf(decimal_date)\n",
    "    year = int(year)\n",
    "\n",
    "    def is_leap_year(year):\n",
    "        return (year % 4 == 0 and year % 100 != 0) or year % 400 == 0\n",
    "\n",
    "    days_in_year = 366 if (is_leap_year(year) == True) else 365\n",
    "    days_in_decimal_date = round(decimal * days_in_year)\n",
    "\n",
    "    days_as_timedelta = timedelta(days=days_in_decimal_date)\n",
    "    date_as_datetime = date(year, 1, 1) + days_as_timedelta\n",
    "    \n",
    "    return date_as_datetime\n",
    "\n",
    "#Application of the function to the corresponding column of ds.\n",
    "ds[\"Date\"] = ds[\"Date\"].apply(convert_decimal_date_to_datetime)\n"
   ]
  },
  {
   "cell_type": "code",
   "execution_count": 3,
   "metadata": {},
   "outputs": [
    {
     "name": "stdout",
     "output_type": "stream",
     "text": [
      "          StationID  Series        Date  Temperature  Uncertainty  \\\n",
      "0                 1       1  1986-02-16      -35.600       0.0500   \n",
      "1                 1       1  1986-03-18      -53.400       0.0500   \n",
      "2                 1       1  1986-04-18      -55.300       0.0500   \n",
      "3                 1       1  1986-05-18      -62.400       0.0500   \n",
      "4                 1       1  1986-06-17      -63.700       0.0500   \n",
      "...             ...     ...         ...          ...          ...   \n",
      "20599150     611317       1  2019-04-18      -14.727       0.0673   \n",
      "20599151     611317       1  2019-05-18       -2.846       0.0446   \n",
      "20599152     611317       1  2019-06-17        1.675       0.2506   \n",
      "20599153     611317       1  2019-07-18        8.721       0.5517   \n",
      "20599154     611317       1  2019-08-17        5.664       0.1118   \n",
      "\n",
      "          Observations  TimeOfObservations  \n",
      "0                  -99                 -99  \n",
      "1                  -99                 -99  \n",
      "2                  -99                 -99  \n",
      "3                  -99                 -99  \n",
      "4                  -99                 -99  \n",
      "...                ...                 ...  \n",
      "20599150            30                 -99  \n",
      "20599151            31                 -99  \n",
      "20599152            30                 -99  \n",
      "20599153            31                 -99  \n",
      "20599154            31                 -99  \n",
      "\n",
      "[20599155 rows x 7 columns]\n"
     ]
    }
   ],
   "source": [
    "# ds is printed in order to check that the changes were applied. As it can be seen the date has changed to a proper datetime format.\n",
    "print(ds)"
   ]
  },
  {
   "cell_type": "markdown",
   "metadata": {},
   "source": [
    "## Datetime convertion and resampling the data by month\n",
    "\n",
    "Now that we have the datetime column properly transformed it is needed to convert it to datetime, in order to resample the data by month as specified in the first task."
   ]
  },
  {
   "cell_type": "code",
   "execution_count": 4,
   "metadata": {},
   "outputs": [
    {
     "name": "stdout",
     "output_type": "stream",
     "text": [
      "            StationID  Series  Temperature  Uncertainty  Observations  \\\n",
      "Date                                                                    \n",
      "1986-02-16          1       1        -35.6         0.05           -99   \n",
      "1986-03-18          1       1        -53.4         0.05           -99   \n",
      "1986-04-18          1       1        -55.3         0.05           -99   \n",
      "1986-05-18          1       1        -62.4         0.05           -99   \n",
      "1986-06-17          1       1        -63.7         0.05           -99   \n",
      "1986-07-18          1       1        -60.7         0.05           -99   \n",
      "1986-08-17          1       1        -59.5         0.05           -99   \n",
      "1986-10-17          1       1        -52.7         0.05           -99   \n",
      "1986-11-16          1       1        -39.1         0.05           -99   \n",
      "1986-12-17          1       1        -29.1         0.05           -99   \n",
      "1987-01-16          1       1        -27.6         0.05           -99   \n",
      "1987-02-16          1       1        -41.7         0.05           -99   \n",
      "1987-03-18          1       1        -52.2         0.05           -99   \n",
      "1987-04-18          1       1        -60.0         0.05           -99   \n",
      "1987-05-18          1       1        -60.2         0.05           -99   \n",
      "1987-06-17          1       1        -58.2         0.05           -99   \n",
      "1987-07-18          1       1        -64.0         0.05           -99   \n",
      "1987-10-17          1       1        -53.6         0.05           -99   \n",
      "1987-11-16          1       1        -41.5         0.05           -99   \n",
      "1987-12-17          1       1        -29.0         0.05           -99   \n",
      "1978-01-16          2       1        -28.0         0.05           -99   \n",
      "1978-02-16          2       1        -39.2         0.05           -99   \n",
      "1978-03-18          2       1        -53.6         0.05           -99   \n",
      "1978-04-18          2       1        -50.6         0.05           -99   \n",
      "1978-05-18          2       1        -56.4         0.05           -99   \n",
      "1978-06-17          2       1        -60.2         0.05           -99   \n",
      "1978-07-18          2       1        -60.1         0.05           -99   \n",
      "1978-08-17          2       1        -62.1         0.05           -99   \n",
      "1978-09-16          2       1        -59.9         0.05           -99   \n",
      "1978-10-17          2       1        -48.5         0.05           -99   \n",
      "\n",
      "            TimeOfObservations  \n",
      "Date                            \n",
      "1986-02-16                 -99  \n",
      "1986-03-18                 -99  \n",
      "1986-04-18                 -99  \n",
      "1986-05-18                 -99  \n",
      "1986-06-17                 -99  \n",
      "1986-07-18                 -99  \n",
      "1986-08-17                 -99  \n",
      "1986-10-17                 -99  \n",
      "1986-11-16                 -99  \n",
      "1986-12-17                 -99  \n",
      "1987-01-16                 -99  \n",
      "1987-02-16                 -99  \n",
      "1987-03-18                 -99  \n",
      "1987-04-18                 -99  \n",
      "1987-05-18                 -99  \n",
      "1987-06-17                 -99  \n",
      "1987-07-18                 -99  \n",
      "1987-10-17                 -99  \n",
      "1987-11-16                 -99  \n",
      "1987-12-17                 -99  \n",
      "1978-01-16                 -99  \n",
      "1978-02-16                 -99  \n",
      "1978-03-18                 -99  \n",
      "1978-04-18                 -99  \n",
      "1978-05-18                 -99  \n",
      "1978-06-17                 -99  \n",
      "1978-07-18                 -99  \n",
      "1978-08-17                 -99  \n",
      "1978-09-16                 -99  \n",
      "1978-10-17                 -99  \n",
      "0\n"
     ]
    }
   ],
   "source": [
    "#Conversion of the date column to datetime.\n",
    "ds[\"Date\"] = pd.to_datetime(ds[\"Date\"], format = \"%Y-%m-%d\")\n",
    "# We then pass the date column to the index, which will be really helpful when plotting. \n",
    "ds = ds.set_index('Date')\n",
    "# Resampling the data by month\n",
    "ds_monthly = ds.resample('M').mean()\n",
    "print(ds.head(30))\n",
    "#Check that we do not have any missing value on the temperature column.\n",
    "print(ds['Temperature'].isna().sum())\n"
   ]
  },
  {
   "cell_type": "code",
   "execution_count": 5,
   "metadata": {},
   "outputs": [
    {
     "name": "stdout",
     "output_type": "stream",
     "text": [
      "            StationID  Series  Temperature  Uncertainty  Observations  \\\n",
      "Date                                                                    \n",
      "1701-01-31   583444.0     1.0       -4.195       0.0275         -99.0   \n",
      "1701-02-28   583444.0     1.0       -1.500       0.0275         -99.0   \n",
      "1701-03-31   583444.0     1.0        1.600       0.0275         -99.0   \n",
      "1701-04-30        NaN     NaN          NaN          NaN           NaN   \n",
      "1701-05-31        NaN     NaN          NaN          NaN           NaN   \n",
      "1701-06-30   583444.0     1.0       15.400       0.0275         -99.0   \n",
      "1701-07-31   583444.0     1.0       18.900       0.0275         -99.0   \n",
      "1701-08-31   583444.0     1.0       15.800       0.0275         -99.0   \n",
      "1701-09-30        NaN     NaN          NaN          NaN           NaN   \n",
      "1701-10-31        NaN     NaN          NaN          NaN           NaN   \n",
      "1701-11-30        NaN     NaN          NaN          NaN           NaN   \n",
      "1701-12-31   583444.0     1.0       -0.500       0.0275         -99.0   \n",
      "1702-01-31   583444.0     1.0        2.000       0.0275         -99.0   \n",
      "1702-02-28   583444.0     1.0       -0.500       0.0275         -99.0   \n",
      "1702-03-31   583444.0     1.0        0.600       0.0275         -99.0   \n",
      "1702-04-30   583444.0     1.0        2.600       0.0275         -99.0   \n",
      "1702-05-31   583444.0     1.0       10.900       0.0275         -99.0   \n",
      "1702-06-30   583444.0     1.0       16.000       0.0275         -99.0   \n",
      "1702-07-31   583444.0     1.0       16.000       0.0275         -99.0   \n",
      "1702-08-31   583444.0     1.0       15.800       0.0275         -99.0   \n",
      "\n",
      "            TimeOfObservations  \n",
      "Date                            \n",
      "1701-01-31               -99.0  \n",
      "1701-02-28               -99.0  \n",
      "1701-03-31               -99.0  \n",
      "1701-04-30                 NaN  \n",
      "1701-05-31                 NaN  \n",
      "1701-06-30               -99.0  \n",
      "1701-07-31               -99.0  \n",
      "1701-08-31               -99.0  \n",
      "1701-09-30                 NaN  \n",
      "1701-10-31                 NaN  \n",
      "1701-11-30                 NaN  \n",
      "1701-12-31               -99.0  \n",
      "1702-01-31               -99.0  \n",
      "1702-02-28               -99.0  \n",
      "1702-03-31               -99.0  \n",
      "1702-04-30               -99.0  \n",
      "1702-05-31               -99.0  \n",
      "1702-06-30               -99.0  \n",
      "1702-07-31               -99.0  \n",
      "1702-08-31               -99.0  \n"
     ]
    }
   ],
   "source": [
    "# Dataframe resampled by month first 20 lines.\n",
    "print(ds_monthly.head(20))"
   ]
  },
  {
   "cell_type": "code",
   "execution_count": 6,
   "metadata": {},
   "outputs": [
    {
     "name": "stdout",
     "output_type": "stream",
     "text": [
      "<class 'pandas.core.frame.DataFrame'>\n",
      "DatetimeIndex: 3828 entries, 1701-01-31 to 2019-12-31\n",
      "Freq: M\n",
      "Data columns (total 6 columns):\n",
      "StationID             3815 non-null float64\n",
      "Series                3815 non-null float64\n",
      "Temperature           3815 non-null float64\n",
      "Uncertainty           3815 non-null float64\n",
      "Observations          3815 non-null float64\n",
      "TimeOfObservations    3815 non-null float64\n",
      "dtypes: float64(6)\n",
      "memory usage: 209.3 KB\n"
     ]
    }
   ],
   "source": [
    "# Checking how the monthly dataframe is structured.\n",
    "ds_monthly.info()"
   ]
  },
  {
   "cell_type": "code",
   "execution_count": 7,
   "metadata": {},
   "outputs": [
    {
     "name": "stdout",
     "output_type": "stream",
     "text": [
      "            StationID  Series  Temperature  Uncertainty  Observations  \\\n",
      "Date                                                                    \n",
      "1701-01-31   583444.0     1.0       -4.195       0.0275         -99.0   \n",
      "1701-02-28   583444.0     1.0       -1.500       0.0275         -99.0   \n",
      "1701-03-31   583444.0     1.0        1.600       0.0275         -99.0   \n",
      "1701-04-30        NaN     NaN       15.400          NaN           NaN   \n",
      "1701-05-31        NaN     NaN       15.400          NaN           NaN   \n",
      "1701-06-30   583444.0     1.0       15.400       0.0275         -99.0   \n",
      "1701-07-31   583444.0     1.0       18.900       0.0275         -99.0   \n",
      "1701-08-31   583444.0     1.0       15.800       0.0275         -99.0   \n",
      "1701-09-30        NaN     NaN       -0.500          NaN           NaN   \n",
      "1701-10-31        NaN     NaN       -0.500          NaN           NaN   \n",
      "1701-11-30        NaN     NaN       -0.500          NaN           NaN   \n",
      "1701-12-31   583444.0     1.0       -0.500       0.0275         -99.0   \n",
      "1702-01-31   583444.0     1.0        2.000       0.0275         -99.0   \n",
      "1702-02-28   583444.0     1.0       -0.500       0.0275         -99.0   \n",
      "1702-03-31   583444.0     1.0        0.600       0.0275         -99.0   \n",
      "1702-04-30   583444.0     1.0        2.600       0.0275         -99.0   \n",
      "1702-05-31   583444.0     1.0       10.900       0.0275         -99.0   \n",
      "1702-06-30   583444.0     1.0       16.000       0.0275         -99.0   \n",
      "1702-07-31   583444.0     1.0       16.000       0.0275         -99.0   \n",
      "1702-08-31   583444.0     1.0       15.800       0.0275         -99.0   \n",
      "\n",
      "            TimeOfObservations  \n",
      "Date                            \n",
      "1701-01-31               -99.0  \n",
      "1701-02-28               -99.0  \n",
      "1701-03-31               -99.0  \n",
      "1701-04-30                 NaN  \n",
      "1701-05-31                 NaN  \n",
      "1701-06-30               -99.0  \n",
      "1701-07-31               -99.0  \n",
      "1701-08-31               -99.0  \n",
      "1701-09-30                 NaN  \n",
      "1701-10-31                 NaN  \n",
      "1701-11-30                 NaN  \n",
      "1701-12-31               -99.0  \n",
      "1702-01-31               -99.0  \n",
      "1702-02-28               -99.0  \n",
      "1702-03-31               -99.0  \n",
      "1702-04-30               -99.0  \n",
      "1702-05-31               -99.0  \n",
      "1702-06-30               -99.0  \n",
      "1702-07-31               -99.0  \n",
      "1702-08-31               -99.0  \n",
      "<class 'pandas.core.frame.DataFrame'>\n",
      "DatetimeIndex: 3828 entries, 1701-01-31 to 2019-12-31\n",
      "Freq: M\n",
      "Data columns (total 6 columns):\n",
      "StationID             3815 non-null float64\n",
      "Series                3815 non-null float64\n",
      "Temperature           3828 non-null float64\n",
      "Uncertainty           3815 non-null float64\n",
      "Observations          3815 non-null float64\n",
      "TimeOfObservations    3815 non-null float64\n",
      "dtypes: float64(6)\n",
      "memory usage: 209.3 KB\n"
     ]
    }
   ],
   "source": [
    "# Filling the temperature NaN values with backward filling, which propagates the first observed non-null value backward until another non-null value is met.\n",
    "ds_monthly['Temperature'] = ds_monthly['Temperature'].fillna(method='bfill')\n",
    "print(ds_monthly.head(20))\n",
    "# Check again the info, to see if we fixed the NaN values present on the temperature column\n",
    "ds_monthly.info()"
   ]
  },
  {
   "cell_type": "markdown",
   "metadata": {},
   "source": [
    "## Plotting of the monthly data\n",
    "\n",
    "First, I tried to use seaborn to plot the monhtly data, but as can be seen it raised a weird Warning. Therefore, I decided to plot it using matplotlib. To answer the first question, it can appreciated that there is a lot of noise. Therefore, it can not be concluded that the graph follows any tendency at all. Let's try with the annual evolution and see if it improved our understanding of the data to reach a decision regarding climate change."
   ]
  },
  {
   "cell_type": "code",
   "execution_count": 8,
   "metadata": {},
   "outputs": [
    {
     "name": "stderr",
     "output_type": "stream",
     "text": [
      "C:\\Users\\Alex\\FinalAnaconda\\lib\\site-packages\\pandas\\plotting\\_matplotlib\\converter.py:103: FutureWarning: Using an implicitly registered datetime converter for a matplotlib plotting method. The converter was registered by pandas on import. Future versions of pandas will require you to explicitly register matplotlib converters.\n",
      "\n",
      "To register the converters:\n",
      "\t>>> from pandas.plotting import register_matplotlib_converters\n",
      "\t>>> register_matplotlib_converters()\n",
      "  warnings.warn(msg, FutureWarning)\n"
     ]
    },
    {
     "data": {
      "text/plain": [
       "<matplotlib.axes._subplots.AxesSubplot at 0x20f0256ce48>"
      ]
     },
     "execution_count": 8,
     "metadata": {},
     "output_type": "execute_result"
    }
   ],
   "source": [
    "import seaborn as sns\n",
    "sns.lineplot(x=ds_monthly.index, y=\"Temperature\", lw=1, data=ds_monthly)"
   ]
  },
  {
   "cell_type": "code",
   "execution_count": 9,
   "metadata": {},
   "outputs": [
    {
     "data": {
      "image/png": "[encoded data removed]",
      "text/plain": [
       "<Figure size 432x288 with 1 Axes>"
      ]
     },
     "metadata": {
      "needs_background": "light"
     },
     "output_type": "display_data"
    }
   ],
   "source": [
    "import matplotlib.pyplot as plt\n",
    "plt.plot(ds_monthly['Temperature'], color= 'blue', lw = 1.5)\n",
    "plt.title(\"Monthly average temperature evolution\")\n",
    "plt.ylabel('Temperature')\n",
    "plt.show()"
   ]
  },
  {
   "cell_type": "markdown",
   "metadata": {},
   "source": [
    "## Annual data\n",
    "\n",
    "Here we are resampling the original dataframe by year instead of by month, which will help us plot the average annual evolution of the differents station's temperature."
   ]
  },
  {
   "cell_type": "code",
   "execution_count": 10,
   "metadata": {},
   "outputs": [
    {
     "name": "stdout",
     "output_type": "stream",
     "text": [
      "                StationID  Series  Temperature  Uncertainty  Observations  \\\n",
      "Date                                                                        \n",
      "1701-12-31  583444.000000     1.0     6.500714     0.027500    -99.000000   \n",
      "1702-12-31  583444.000000     1.0     6.816667     0.027500    -99.000000   \n",
      "1703-12-31  583444.000000     1.0     7.391667     0.042500    -99.000000   \n",
      "1704-12-31  583444.000000     1.0     6.250000     0.050000    -99.000000   \n",
      "1705-12-31  583444.000000     1.0     7.000000     0.050000    -99.000000   \n",
      "...                   ...     ...          ...          ...           ...   \n",
      "2015-12-31  380520.323996     1.0    12.014847     0.093335     14.366321   \n",
      "2016-12-31  379784.180311     1.0    12.224383     0.095435     14.642319   \n",
      "2017-12-31  379771.485276     1.0    12.079012     0.100539     19.014905   \n",
      "2018-12-31  386594.533140     1.0    11.718662     0.096493     20.012834   \n",
      "2019-12-31  380177.364543     1.0    11.727244     0.106731     24.331102   \n",
      "\n",
      "            TimeOfObservations  \n",
      "Date                            \n",
      "1701-12-31          -99.000000  \n",
      "1702-12-31          -99.000000  \n",
      "1703-12-31          -99.000000  \n",
      "1704-12-31          -99.000000  \n",
      "1705-12-31          -99.000000  \n",
      "...                        ...  \n",
      "2015-12-31          -98.856862  \n",
      "2016-12-31          -98.820334  \n",
      "2017-12-31          -98.860054  \n",
      "2018-12-31          -98.782141  \n",
      "2019-12-31          -98.947466  \n",
      "\n",
      "[319 rows x 6 columns]\n",
      "<class 'pandas.core.frame.DataFrame'>\n",
      "DatetimeIndex: 319 entries, 1701-12-31 to 2019-12-31\n",
      "Freq: A-DEC\n",
      "Data columns (total 6 columns):\n",
      "StationID             319 non-null float64\n",
      "Series                319 non-null float64\n",
      "Temperature           319 non-null float64\n",
      "Uncertainty           319 non-null float64\n",
      "Observations          319 non-null float64\n",
      "TimeOfObservations    319 non-null float64\n",
      "dtypes: float64(6)\n",
      "memory usage: 17.4 KB\n"
     ]
    }
   ],
   "source": [
    "# Resampling annual data\n",
    "ds_annual = ds.resample('A').mean()\n",
    "print(ds_annual)\n",
    "ds_annual.info()"
   ]
  },
  {
   "cell_type": "markdown",
   "metadata": {},
   "source": [
    "## Plotting of annual data\n",
    "\n",
    "Here, I have used seaborn to plot the annual data and it worked. As it can be appreciated there is an upward tendency of the temperature as we approximate to 2019. However, it suffers a lot of oscilations, which we will try to solve by calculating the moving average ."
   ]
  },
  {
   "cell_type": "code",
   "execution_count": 11,
   "metadata": {},
   "outputs": [
    {
     "data": {
      "text/plain": [
       "Text(0.5, 1.0, 'Annual Average temperature evolution')"
      ]
     },
     "execution_count": 11,
     "metadata": {},
     "output_type": "execute_result"
    },
    {
     "data": {
      "image/png": "[encoded data removed]",
      "text/plain": [
       "<Figure size 432x288 with 1 Axes>"
      ]
     },
     "metadata": {
      "needs_background": "light"
     },
     "output_type": "display_data"
    }
   ],
   "source": [
    "import seaborn as sns\n",
    "import matplotlib.pyplot as plt\n",
    "sns.lineplot(x=ds_annual.index, y=\"Temperature\", lw=1, data=ds_annual)\n",
    "plt.title(\"Annual Average temperature evolution\")\n"
   ]
  },
  {
   "cell_type": "markdown",
   "metadata": {},
   "source": [
    "## Decade and moving average graph\n",
    "\n",
    "Here, I just did additional work to the one specified in the assignment, since I was curious to see the tendency when we took into account decades instead of just years. Therefore, I resampled the data by decade. After that I calculated the moving average taking into account ten years."
   ]
  },
  {
   "cell_type": "code",
   "execution_count": 12,
   "metadata": {},
   "outputs": [
    {
     "name": "stdout",
     "output_type": "stream",
     "text": [
      "                StationID  Series  Temperature  Uncertainty  Observations  \\\n",
      "Date                                                                        \n",
      "1701-12-31  583444.000000     1.0     6.500714       0.0275         -99.0   \n",
      "1702-12-31  583444.000000     1.0     6.816667       0.0275         -99.0   \n",
      "1703-12-31  583444.000000     1.0     7.391667       0.0425         -99.0   \n",
      "1704-12-31  583444.000000     1.0     6.250000       0.0500         -99.0   \n",
      "1705-12-31  583444.000000     1.0     7.000000       0.0500         -99.0   \n",
      "1706-12-31  539202.333333     1.0     7.858333       0.0500         -99.0   \n",
      "1707-12-31  539202.333333     1.0     7.725000       0.0500         -99.0   \n",
      "1708-12-31  533672.125000     1.0     7.350000       0.0500         -99.0   \n",
      "1709-12-31  536599.882353     1.0     7.835294       0.0500         -99.0   \n",
      "1710-12-31  503809.000000     1.0     6.750000       0.0500         -99.0   \n",
      "1711-12-31  450719.000000     1.0     9.475000       0.0500         -99.0   \n",
      "1712-12-31  450719.000000     1.0     9.391667       0.0500         -99.0   \n",
      "1713-12-31  450719.000000     1.0     8.791667       0.0500         -99.0   \n",
      "1714-12-31  450719.000000     1.0     9.400000       0.0500         -99.0   \n",
      "1715-12-31  450719.000000     1.0     9.233333       0.0500         -99.0   \n",
      "1716-12-31  450719.000000     1.0     8.283333       0.0500         -99.0   \n",
      "1717-12-31  450719.000000     1.0     8.841667       0.0500         -99.0   \n",
      "1718-12-31  450719.000000     1.0     9.575000       0.0500         -99.0   \n",
      "1719-12-31  450719.000000     1.0     9.408333       0.0500         -99.0   \n",
      "1720-12-31  450719.000000     1.0     8.866667       0.0500         -99.0   \n",
      "\n",
      "            TimeOfObservations        MA  \n",
      "Date                                      \n",
      "1701-12-31               -99.0  7.147768  \n",
      "1702-12-31               -99.0  7.147768  \n",
      "1703-12-31               -99.0  7.147768  \n",
      "1704-12-31               -99.0  7.147768  \n",
      "1705-12-31               -99.0  7.147768  \n",
      "1706-12-31               -99.0  7.147768  \n",
      "1707-12-31               -99.0  7.147768  \n",
      "1708-12-31               -99.0  7.147768  \n",
      "1709-12-31               -99.0  7.147768  \n",
      "1710-12-31               -99.0  7.147768  \n",
      "1711-12-31               -99.0  7.445196  \n",
      "1712-12-31               -99.0  7.702696  \n",
      "1713-12-31               -99.0  7.842696  \n",
      "1714-12-31               -99.0  8.157696  \n",
      "1715-12-31               -99.0  8.381029  \n",
      "1716-12-31               -99.0  8.423529  \n",
      "1717-12-31               -99.0  8.535196  \n",
      "1718-12-31               -99.0  8.757696  \n",
      "1719-12-31               -99.0  8.915000  \n",
      "1720-12-31               -99.0  9.126667  \n",
      "<class 'pandas.core.frame.DataFrame'>\n",
      "DatetimeIndex: 319 entries, 1701-12-31 to 2019-12-31\n",
      "Freq: A-DEC\n",
      "Data columns (total 7 columns):\n",
      "StationID             319 non-null float64\n",
      "Series                319 non-null float64\n",
      "Temperature           319 non-null float64\n",
      "Uncertainty           319 non-null float64\n",
      "Observations          319 non-null float64\n",
      "TimeOfObservations    319 non-null float64\n",
      "MA                    319 non-null float64\n",
      "dtypes: float64(7)\n",
      "memory usage: 19.9 KB\n",
      "                StationID  Series  Temperature  Uncertainty  Observations  \\\n",
      "Date                                                                        \n",
      "1701-12-31  583444.000000     1.0     6.500714     0.027500    -99.000000   \n",
      "1711-12-31  545219.200000     1.0     7.457200     0.047120    -99.000000   \n",
      "1721-12-31  450719.000000     1.0     9.097500     0.050000    -99.000000   \n",
      "1731-12-31  514227.463476     1.0     9.434710     0.038325    -99.000000   \n",
      "1741-12-31  528179.588629     1.0     9.542124     0.039390    -99.000000   \n",
      "1751-12-31  526909.209632     1.0     9.225028     0.042479    -99.000000   \n",
      "1761-12-31  477106.953885     1.0     8.930316     0.046646    -99.000000   \n",
      "1771-12-31  429093.697286     1.0     8.925317     0.047847    -94.136047   \n",
      "1781-12-31  416180.784775     1.0     9.074545     0.044226    -92.915571   \n",
      "1791-12-31  407810.980581     1.0     8.847433     0.047411    -93.997063   \n",
      "1801-12-31  418080.460665     1.0     9.653856     0.046106    -93.110644   \n",
      "1811-12-31  411479.931946     1.0     9.008567     0.046096    -95.059030   \n",
      "1821-12-31  411742.167139     1.0     8.500338     0.045040    -91.601310   \n",
      "1831-12-31  419226.735971     1.0     9.141555     0.042795    -83.571234   \n",
      "1841-12-31  434792.767581     1.0     8.466504     0.041761    -83.923083   \n",
      "1851-12-31  435866.137043     1.0     8.594941     0.042672    -87.485160   \n",
      "1861-12-31  436526.345407     1.0     9.691283     0.039318    -74.634099   \n",
      "1871-12-31  440271.998467     1.0     9.787602     0.038242    -72.837832   \n",
      "1881-12-31  448582.938508     1.0    10.573877     0.036845    -65.613744   \n",
      "1891-12-31  451369.759001     1.0    10.728808     0.039309    -68.509795   \n",
      "\n",
      "            TimeOfObservations  \n",
      "Date                            \n",
      "1701-12-31          -99.000000  \n",
      "1711-12-31          -99.000000  \n",
      "1721-12-31          -99.000000  \n",
      "1731-12-31          -99.000000  \n",
      "1741-12-31          -99.000000  \n",
      "1751-12-31          -99.000000  \n",
      "1761-12-31          -99.000000  \n",
      "1771-12-31          -99.000000  \n",
      "1781-12-31          -99.000000  \n",
      "1791-12-31          -99.000000  \n",
      "1801-12-31          -99.000000  \n",
      "1811-12-31          -99.000000  \n",
      "1821-12-31          -98.558928  \n",
      "1831-12-31          -98.925910  \n",
      "1841-12-31          -98.878053  \n",
      "1851-12-31          -98.513373  \n",
      "1861-12-31          -98.036688  \n",
      "1871-12-31          -97.558620  \n",
      "1881-12-31          -90.967422  \n",
      "1891-12-31          -89.503317  \n"
     ]
    }
   ],
   "source": [
    "# Resampling data by decade\n",
    "ds_decade = ds.resample('10A').mean()\n",
    "# Moving average of ten years.\n",
    "ds_annual['MA'] = ds_annual['Temperature'].rolling(window=10).mean()\n",
    "ds_annual['MA'] = ds_annual['MA'].fillna(method='bfill')\n",
    "print(ds_annual.head(20))\n",
    "ds_annual.info()\n",
    "print(ds_decade.head(20))"
   ]
  },
  {
   "cell_type": "markdown",
   "metadata": {},
   "source": [
    "## Plotting of the decade temperature evolution\n",
    "\n",
    "As it canbe appreciated in the following plot, when plotting the data by decade we were able to reduce the noise that was experienced when plotting it by year. Here, we can appreciate a clear incresing tendency, which coulde serve us to explain our friend that climate change is real. But we are not going to stope here, and will conitnue analyzing the data."
   ]
  },
  {
   "cell_type": "code",
   "execution_count": 13,
   "metadata": {},
   "outputs": [
    {
     "data": {
      "text/plain": [
       "Text(0.5, 1.0, 'Decade average temperature evolution')"
      ]
     },
     "execution_count": 13,
     "metadata": {},
     "output_type": "execute_result"
    },
    {
     "data": {
      "image/png": "[encoded data removed]",
      "text/plain": [
       "<Figure size 432x288 with 1 Axes>"
      ]
     },
     "metadata": {
      "needs_background": "light"
     },
     "output_type": "display_data"
    }
   ],
   "source": [
    "import seaborn as sns\n",
    "sns.lineplot(x=ds_decade.index, y=\"Temperature\", estimator=None, lw=1, data=ds_decade)\n",
    "plt.title(\"Decade average temperature evolution\")"
   ]
  },
  {
   "cell_type": "markdown",
   "metadata": {},
   "source": [
    "## Plotting of the moving average taking into account 10 years\n",
    "\n",
    "As anticipated, here we are plotting the moving average taking into account 10 years and the annual average temperature in the same graph. As it can be appreciated, the moving average allowed us to eliminate the noise that was present when plotting the evolution just year by year. Therefore, as the decade graph we saw before reflects a clear increasing tendency of the temperature."
   ]
  },
  {
   "cell_type": "code",
   "execution_count": 14,
   "metadata": {},
   "outputs": [
    {
     "data": {
      "image/png": "[encoded data removed]",
      "text/plain": [
       "<Figure size 432x432 with 1 Axes>"
      ]
     },
     "metadata": {
      "needs_background": "light"
     },
     "output_type": "display_data"
    }
   ],
   "source": [
    "import matplotlib.pyplot as plt\n",
    "fig, ax = plt.subplots(figsize=(6,6))\n",
    "sns.lineplot(x=ds_annual.index, \n",
    "             y='Temperature',\n",
    "             color='r',\n",
    "           data= ds_annual)\n",
    "sns.lineplot(x=ds_annual.index, \n",
    "             y='MA', \n",
    "             color='b', \n",
    "            data= ds_annual)    \n",
    "ax.legend(['Average temperature', 'Moving average 10 years'], facecolor='w')\n",
    "plt.ylabel('Temperature')\n",
    "plt.show()"
   ]
  },
  {
   "cell_type": "code",
   "execution_count": 15,
   "metadata": {},
   "outputs": [
    {
     "name": "stdout",
     "output_type": "stream",
     "text": [
      "            StationID  Series  Temperature  Uncertainty  Observations  \\\n",
      "Date                                                                    \n",
      "1701-01-16     591974       1        -4.20        0.050           -99   \n",
      "1701-01-16     574914       1        -4.19        0.005           -99   \n",
      "1701-02-16     574914       1        -1.50        0.005           -99   \n",
      "1701-02-16     591974       1        -1.50        0.050           -99   \n",
      "1701-03-18     591974       1         1.60        0.050           -99   \n",
      "1701-03-18     574914       1         1.60        0.005           -99   \n",
      "1701-06-17     591974       1        15.40        0.050           -99   \n",
      "1701-06-17     574914       1        15.40        0.005           -99   \n",
      "1701-07-18     591974       1        18.90        0.050           -99   \n",
      "1701-07-18     574914       1        18.90        0.005           -99   \n",
      "1701-08-17     591974       1        15.80        0.050           -99   \n",
      "1701-08-17     574914       1        15.80        0.005           -99   \n",
      "1701-12-17     574914       1        -0.50        0.005           -99   \n",
      "1701-12-17     591974       1        -0.50        0.050           -99   \n",
      "1702-01-16     574914       1         2.00        0.005           -99   \n",
      "1702-01-16     591974       1         2.00        0.050           -99   \n",
      "1702-02-16     591974       1        -0.50        0.050           -99   \n",
      "1702-02-16     574914       1        -0.50        0.005           -99   \n",
      "1702-03-18     591974       1         0.60        0.050           -99   \n",
      "1702-03-18     574914       1         0.60        0.005           -99   \n",
      "1702-04-18     574914       1         2.60        0.005           -99   \n",
      "1702-04-18     591974       1         2.60        0.050           -99   \n",
      "1702-05-18     591974       1        10.90        0.050           -99   \n",
      "1702-05-18     574914       1        10.90        0.005           -99   \n",
      "1702-06-17     574914       1        16.00        0.005           -99   \n",
      "\n",
      "            TimeOfObservations  \n",
      "Date                            \n",
      "1701-01-16                 -99  \n",
      "1701-01-16                 -99  \n",
      "1701-02-16                 -99  \n",
      "1701-02-16                 -99  \n",
      "1701-03-18                 -99  \n",
      "1701-03-18                 -99  \n",
      "1701-06-17                 -99  \n",
      "1701-06-17                 -99  \n",
      "1701-07-18                 -99  \n",
      "1701-07-18                 -99  \n",
      "1701-08-17                 -99  \n",
      "1701-08-17                 -99  \n",
      "1701-12-17                 -99  \n",
      "1701-12-17                 -99  \n",
      "1702-01-16                 -99  \n",
      "1702-01-16                 -99  \n",
      "1702-02-16                 -99  \n",
      "1702-02-16                 -99  \n",
      "1702-03-18                 -99  \n",
      "1702-03-18                 -99  \n",
      "1702-04-18                 -99  \n",
      "1702-04-18                 -99  \n",
      "1702-05-18                 -99  \n",
      "1702-05-18                 -99  \n",
      "1702-06-17                 -99  \n"
     ]
    }
   ],
   "source": [
    "# Sorting the index\n",
    "ds = ds.sort_index()\n",
    "print(ds.head(25))"
   ]
  },
  {
   "cell_type": "code",
   "execution_count": 16,
   "metadata": {},
   "outputs": [
    {
     "name": "stdout",
     "output_type": "stream",
     "text": [
      "50985\n"
     ]
    }
   ],
   "source": [
    "# Get to know your data. How many unique values are in the StationID column\n",
    "print(ds['StationID'].nunique())"
   ]
  },
  {
   "cell_type": "markdown",
   "metadata": {},
   "source": [
    "## First approach to solving the last question\n",
    "\n",
    "Here is my first approach towards solving the last question. At first, I thought okay the stations that would be during the whole period are the ones that would appear in the beginning (1701) as well as in the end (2019). Therefore, I decided to just find out which stations were present in 1701, which as shown by the code below were the following: **591974** and **574914**. If these two companies were present as well in 2019, then these two companies were present the whole period, that was my first thought. But as it is going to be seen later, I improved the approach to make it more accurate, since the statement says that our friend is skeptical and some stations can disappear and appear."
   ]
  },
  {
   "cell_type": "code",
   "execution_count": 17,
   "metadata": {},
   "outputs": [
    {
     "name": "stdout",
     "output_type": "stream",
     "text": [
      "[591974 574914]\n",
      "            StationID  Series  Temperature  Uncertainty  Observations  \\\n",
      "Date                                                                    \n",
      "2019-01-16     455534       1       -1.000       0.0500           -99   \n",
      "2019-01-16     568365       1      -20.756       0.1491            31   \n",
      "2019-01-16     435446       1      -11.762       0.1019            31   \n",
      "2019-01-16     545435       1      -18.166       0.0064            31   \n",
      "2019-01-16      27744       1        6.637       0.0065            30   \n",
      "...               ...     ...          ...          ...           ...   \n",
      "2019-12-17     530995       1       -4.245       0.1776            31   \n",
      "2019-12-17     421689       1       -8.645       0.0482            31   \n",
      "2019-12-17     473843       1       10.830       0.0065            30   \n",
      "2019-12-17     421704       1       -0.665       0.0965            31   \n",
      "2019-12-17     519093       1        0.932       0.0065            30   \n",
      "\n",
      "            TimeOfObservations  \n",
      "Date                            \n",
      "2019-01-16                 -99  \n",
      "2019-01-16                 -99  \n",
      "2019-01-16                 -99  \n",
      "2019-01-16                 -99  \n",
      "2019-01-16                 -99  \n",
      "...                        ...  \n",
      "2019-12-17                 -99  \n",
      "2019-12-17                 -99  \n",
      "2019-12-17                 -99  \n",
      "2019-12-17                 -99  \n",
      "2019-12-17                 -99  \n",
      "\n",
      "[218600 rows x 6 columns]\n",
      "[455534 568365 435446 ... 550767 159269 244510]\n",
      "[591974, 574914]\n"
     ]
    }
   ],
   "source": [
    "# Calculation which stations were present in 1701\n",
    "unique_values1701 = ds.loc['1701-01-16':'1701-12-31', 'StationID'].unique()\n",
    "print(unique_values1701)\n",
    "# Converting the index to a string, in order to be able to call the method contains.\n",
    "ds.index = ds.index.astype(str)\n",
    "# Getting the data corresponding to 2019 from the original dataframe\n",
    "unique_values2019 = ds.index.str.contains('2019')\n",
    "df_2019 = ds.loc[unique_values2019]\n",
    "print(df_2019)\n",
    "# Getting the stations that were present in 2019, in order to see if the ones present in 1701 were present as well in 2019.\n",
    "unique_values_2019 = df_2019.loc['2019-01-16':'2019-12-17', 'StationID'].unique()\n",
    "print(unique_values_2019)\n",
    "\n",
    "# Here the common stations that 1701 and 2019 had are obtained. \n",
    "common_station = []\n",
    "for i in range(0, len(unique_values_2019)-1):\n",
    "    if unique_values_2019[i] in unique_values1701:\n",
    "        common_station.append(unique_values_2019[i])\n",
    "print(common_station)"
   ]
  },
  {
   "cell_type": "markdown",
   "metadata": {},
   "source": [
    "As it can be seen, the code above gave us that the two stations that were present in 1701 were also present in 2019. However, this is not the best approach to take since they might have disappear for one year or so along the way. Therefore, I decided to take another more accurate approach, which will be explained in line 21 and 22."
   ]
  },
  {
   "cell_type": "code",
   "execution_count": 18,
   "metadata": {},
   "outputs": [
    {
     "name": "stdout",
     "output_type": "stream",
     "text": [
      "            StationID  Series  Temperature  Uncertainty  Observations  \\\n",
      "Date                                                                    \n",
      "2000-01-16     420781       1       29.413       0.0737            23   \n",
      "2000-01-16     160085       1        5.142       0.1046            31   \n",
      "2000-01-16     441371       1       25.543       0.3398            31   \n",
      "2000-01-16     445120       1        6.948       0.2011            31   \n",
      "2000-01-16     455628       1      -22.498       0.0064            31   \n",
      "...               ...     ...          ...          ...           ...   \n",
      "2000-12-17     595376       1       22.626       0.0064            31   \n",
      "2000-12-17     533591       1        3.955       0.0064            31   \n",
      "2000-12-17     426037       1      -12.919       0.0318            31   \n",
      "2000-12-17     593016       1       17.135       0.0064            31   \n",
      "2000-12-17     520714       1       -2.700       0.0500           -99   \n",
      "\n",
      "            TimeOfObservations  \n",
      "Date                            \n",
      "2000-01-16                 -99  \n",
      "2000-01-16                 -99  \n",
      "2000-01-16                 -99  \n",
      "2000-01-16                 -99  \n",
      "2000-01-16                 -99  \n",
      "...                        ...  \n",
      "2000-12-17                 -99  \n",
      "2000-12-17                   8  \n",
      "2000-12-17                 -99  \n",
      "2000-12-17                 -99  \n",
      "2000-12-17                 -99  \n",
      "\n",
      "[257717 rows x 6 columns]\n",
      "            StationID  Series  Temperature  Uncertainty  Observations  \\\n",
      "Date                                                                    \n",
      "1850-01-16     437916       1      -14.480       0.0050           -99   \n",
      "1850-01-16     387738       1       -4.400       0.0500           -99   \n",
      "1850-01-16     610160       1       -2.993       0.0031            23   \n",
      "1850-01-16     528308       1       -1.900       0.0500           -99   \n",
      "1850-01-16     510060       1       -0.600       0.0500           -99   \n",
      "...               ...     ...          ...          ...           ...   \n",
      "1850-12-17     470832       1       10.100       0.0500           -99   \n",
      "1850-12-17      64876       1        0.800       0.0500           -99   \n",
      "1850-12-17     346753       1        0.000       0.0500           -99   \n",
      "1850-12-17     458233       1       -1.200       0.0500           -99   \n",
      "1850-12-17     576162       1        3.400       0.0500           -99   \n",
      "\n",
      "            TimeOfObservations  \n",
      "Date                            \n",
      "1850-01-16                 -99  \n",
      "1850-01-16                 -99  \n",
      "1850-01-16                 -99  \n",
      "1850-01-16                 -99  \n",
      "1850-01-16                 -99  \n",
      "...                        ...  \n",
      "1850-12-17                 -99  \n",
      "1850-12-17                 -99  \n",
      "1850-12-17                 -99  \n",
      "1850-12-17                 -99  \n",
      "1850-12-17                 -99  \n",
      "\n",
      "[3089 rows x 6 columns]\n"
     ]
    }
   ],
   "source": [
    "# Getting data corresponding to the year 2000\n",
    "unique_values2000 = ds.index.str.contains('2000')\n",
    "df_2000 = ds.loc[unique_values2000]\n",
    "print(df_2000)\n",
    "# Getting data corresponding to the year 1850\n",
    "unique_values1850 = ds.index.str.contains('1850')\n",
    "df_1850 = ds.loc[unique_values1850]\n",
    "print(df_1850)"
   ]
  },
  {
   "cell_type": "code",
   "execution_count": 19,
   "metadata": {},
   "outputs": [
    {
     "name": "stdout",
     "output_type": "stream",
     "text": [
      "23886\n",
      "289\n"
     ]
    }
   ],
   "source": [
    "# Getting to know the number of different stations present in 2000\n",
    "unique_values_2000 = df_2000.loc['2000-01-16':'2000-12-17', 'StationID'].unique()\n",
    "print(len(unique_values_2000))\n",
    "# Getting to know the number of different stations present in 1850\n",
    "unique_values_1850 = df_1850.loc['1850-01-16':'1850-12-17', 'StationID'].unique()\n",
    "print(len(unique_values_1850))"
   ]
  },
  {
   "cell_type": "markdown",
   "metadata": {},
   "source": [
    "## Period 1750 - 2019 analysis\n",
    "\n",
    "The new approach that I took to solve the last question was the following. First, to get to know which stations were present during this period (1750-2019), we need to know the number of unique days during that period. If the number of unique days during this period is equal to the number of stations' appearances, then the stations that met this condition were present in the whole period. I also took into account companies that the number of appearances was just 1 or 2 units lower than the number of days, since they could be missing those days because of some gathering of data error. For example, the period has 3240 days if the number of appearances of some stations is equal to 3239 or 3238, they are considered as they were present the whole period, since the number of appearances is very representative."
   ]
  },
  {
   "cell_type": "code",
   "execution_count": 20,
   "metadata": {},
   "outputs": [
    {
     "name": "stdout",
     "output_type": "stream",
     "text": [
      "            StationID  Series  Temperature  Uncertainty  Observations  \\\n",
      "Date                                                                    \n",
      "1750-01-16     573902       1        -1.20        0.050           -99   \n",
      "1750-01-16     524126       1        -2.70        0.050           -99   \n",
      "1750-01-16     444363       1         4.19        0.005           -99   \n",
      "1750-01-16     574914       1         1.20        0.050           -99   \n",
      "1750-01-16     577531       1        -0.50        0.050           -99   \n",
      "...               ...     ...          ...          ...           ...   \n",
      "1750-12-17     591974       1         1.50        0.050           -99   \n",
      "1750-12-17     444363       1         5.62        0.005           -99   \n",
      "1750-12-17     574914       1         1.50        0.050           -99   \n",
      "1750-12-17     450719       1         2.40        0.050           -99   \n",
      "1750-12-17     573902       1        -8.60        0.050           -99   \n",
      "\n",
      "            TimeOfObservations  \n",
      "Date                            \n",
      "1750-01-16                 -99  \n",
      "1750-01-16                 -99  \n",
      "1750-01-16                 -99  \n",
      "1750-01-16                 -99  \n",
      "1750-01-16                 -99  \n",
      "...                        ...  \n",
      "1750-12-17                 -99  \n",
      "1750-12-17                 -99  \n",
      "1750-12-17                 -99  \n",
      "1750-12-17                 -99  \n",
      "1750-12-17                 -99  \n",
      "\n",
      "[80 rows x 6 columns]\n",
      "[573902 524126 444363 574914 577531 591974 450719]\n",
      "            StationID  Series  Temperature  Uncertainty  Observations  \\\n",
      "Date                                                                    \n",
      "1750-01-16     573902       1       -1.200       0.0500           -99   \n",
      "1750-01-16     524126       1       -2.700       0.0500           -99   \n",
      "1750-01-16     444363       1        4.190       0.0050           -99   \n",
      "1750-01-16     574914       1        1.200       0.0500           -99   \n",
      "1750-01-16     577531       1       -0.500       0.0500           -99   \n",
      "...               ...     ...          ...          ...           ...   \n",
      "2019-12-17     530995       1       -4.245       0.1776            31   \n",
      "2019-12-17     421689       1       -8.645       0.0482            31   \n",
      "2019-12-17     473843       1       10.830       0.0065            30   \n",
      "2019-12-17     421704       1       -0.665       0.0965            31   \n",
      "2019-12-17     519093       1        0.932       0.0065            30   \n",
      "\n",
      "            TimeOfObservations  \n",
      "Date                            \n",
      "1750-01-16                 -99  \n",
      "1750-01-16                 -99  \n",
      "1750-01-16                 -99  \n",
      "1750-01-16                 -99  \n",
      "1750-01-16                 -99  \n",
      "...                        ...  \n",
      "2019-12-17                 -99  \n",
      "2019-12-17                 -99  \n",
      "2019-12-17                 -99  \n",
      "2019-12-17                 -99  \n",
      "2019-12-17                 -99  \n",
      "\n",
      "[20597226 rows x 6 columns]\n",
      "3240\n"
     ]
    },
    {
     "name": "stderr",
     "output_type": "stream",
     "text": [
      "C:\\Users\\Alex\\FinalAnaconda\\lib\\site-packages\\ipykernel_launcher.py:22: SettingWithCopyWarning: \n",
      "A value is trying to be set on a copy of a slice from a DataFrame.\n",
      "Try using .loc[row_indexer,col_indexer] = value instead\n",
      "\n",
      "See the caveats in the documentation: http://pandas.pydata.org/pandas-docs/stable/user_guide/indexing.html#returning-a-view-versus-a-copy\n"
     ]
    },
    {
     "name": "stdout",
     "output_type": "stream",
     "text": [
      "[577531, 450719]\n"
     ]
    }
   ],
   "source": [
    "# Getting the values present in 1750\n",
    "unique_values1750 = ds.index.str.contains('1750')\n",
    "df_1750 = ds.loc[unique_values1750]\n",
    "print(df_1750)\n",
    "\n",
    "# Getting the stations that were present in 1750\n",
    "unique_values_1750 = df_1750.loc['1750-01-16':'1750-12-17', 'StationID'].unique()\n",
    "print(unique_values_1750)\n",
    "\n",
    "# Getting the data for the whole period\n",
    "period_to_analyze = ds.loc['1750-01-16':'2019-12-17',]\n",
    "print(period_to_analyze)\n",
    "\n",
    "# Getting the number of days of the period\n",
    "number_of_days = period_to_analyze.index.nunique()\n",
    "print(number_of_days)\n",
    "\n",
    "#Initializing a list that will store the stations present in the whole period\n",
    "stations_whole_period = []\n",
    "\n",
    "# For loop to obtain the stations present the whole period.\n",
    "period_to_analyze['StationID'] = period_to_analyze.iloc[:,0].astype(str)\n",
    "for i in unique_values_1750:\n",
    "    number_of_times_i = period_to_analyze.iloc[:,0].str.contains(str(i))\n",
    "    number_of_times_i_2 = number_of_times_i.to_frame()\n",
    "    final_number_of_times_i = number_of_times_i_2['StationID'].sum()\n",
    "    if final_number_of_times_i == number_of_days or number_of_days == final_number_of_times_i + 1 or number_of_days == final_number_of_times_i + 2:\n",
    "        stations_whole_period.append(i)\n",
    "print(stations_whole_period)\n",
    "    "
   ]
  },
  {
   "cell_type": "markdown",
   "metadata": {},
   "source": [
    "## Functions that will get us the data from each of the stations obtained previously"
   ]
  },
  {
   "cell_type": "code",
   "execution_count": 21,
   "metadata": {},
   "outputs": [
    {
     "name": "stderr",
     "output_type": "stream",
     "text": [
      "C:\\Users\\Alex\\FinalAnaconda\\lib\\site-packages\\ipykernel_launcher.py:5: SettingWithCopyWarning: \n",
      "A value is trying to be set on a copy of a slice from a DataFrame.\n",
      "Try using .loc[row_indexer,col_indexer] = value instead\n",
      "\n",
      "See the caveats in the documentation: http://pandas.pydata.org/pandas-docs/stable/user_guide/indexing.html#returning-a-view-versus-a-copy\n",
      "  \"\"\"\n"
     ]
    },
    {
     "name": "stdout",
     "output_type": "stream",
     "text": [
      "            StationID  Series  Temperature  Uncertainty  Observations  \\\n",
      "Date                                                                    \n",
      "1750-12-31   577531.0     1.0     5.891667         0.05         -99.0   \n",
      "1751-12-31   577531.0     1.0     4.683333         0.05         -99.0   \n",
      "1752-12-31   577531.0     1.0     5.766667         0.05         -99.0   \n",
      "1753-12-31   577531.0     1.0     5.091667         0.05         -99.0   \n",
      "1754-12-31   577531.0     1.0     5.308333         0.05         -99.0   \n",
      "1755-12-31   577531.0     1.0     4.450000         0.05         -99.0   \n",
      "1756-12-31   577531.0     1.0     4.558333         0.05         -99.0   \n",
      "1757-12-31   577531.0     1.0     5.450000         0.05         -99.0   \n",
      "1758-12-31   577531.0     1.0     4.500000         0.05         -99.0   \n",
      "1759-12-31   577531.0     1.0     5.550000         0.05         -99.0   \n",
      "1760-12-31   577531.0     1.0     4.625000         0.05         -99.0   \n",
      "1761-12-31   577531.0     1.0     6.091667         0.05         -99.0   \n",
      "1762-12-31   577531.0     1.0     5.675000         0.05         -99.0   \n",
      "1763-12-31   577531.0     1.0     4.725000         0.05         -99.0   \n",
      "1764-12-31   577531.0     1.0     5.900000         0.05         -99.0   \n",
      "1765-12-31   577531.0     1.0     5.650000         0.05         -99.0   \n",
      "1766-12-31   577531.0     1.0     5.941667         0.05         -99.0   \n",
      "1767-12-31   577531.0     1.0     4.616667         0.05         -99.0   \n",
      "1768-12-31   577531.0     1.0     4.733333         0.05         -99.0   \n",
      "1769-12-31   577531.0     1.0     4.775000         0.05         -99.0   \n",
      "\n",
      "            TimeOfObservations        MA  \n",
      "Date                                      \n",
      "1750-12-31               -99.0  5.125000  \n",
      "1751-12-31               -99.0  5.125000  \n",
      "1752-12-31               -99.0  5.125000  \n",
      "1753-12-31               -99.0  5.125000  \n",
      "1754-12-31               -99.0  5.125000  \n",
      "1755-12-31               -99.0  5.125000  \n",
      "1756-12-31               -99.0  5.125000  \n",
      "1757-12-31               -99.0  5.125000  \n",
      "1758-12-31               -99.0  5.125000  \n",
      "1759-12-31               -99.0  5.125000  \n",
      "1760-12-31               -99.0  4.998333  \n",
      "1761-12-31               -99.0  5.139167  \n",
      "1762-12-31               -99.0  5.130000  \n",
      "1763-12-31               -99.0  5.093333  \n",
      "1764-12-31               -99.0  5.152500  \n",
      "1765-12-31               -99.0  5.272500  \n",
      "1766-12-31               -99.0  5.410833  \n",
      "1767-12-31               -99.0  5.327500  \n",
      "1768-12-31               -99.0  5.350833  \n",
      "1769-12-31               -99.0  5.273333  \n",
      "            StationID  Series  Temperature  Uncertainty  Observations  \\\n",
      "Date                                                                    \n",
      "1750-12-31   450719.0     1.0     9.558333         0.05         -99.0   \n",
      "1751-12-31   450719.0     1.0     8.616667         0.05         -99.0   \n",
      "1752-12-31   450719.0     1.0     9.591667         0.05         -99.0   \n",
      "1753-12-31   450719.0     1.0     9.216667         0.05         -99.0   \n",
      "1754-12-31   450719.0     1.0     8.633333         0.05         -99.0   \n",
      "1755-12-31   450719.0     1.0     8.616667         0.05         -99.0   \n",
      "1756-12-31   450719.0     1.0     9.150000         0.05         -99.0   \n",
      "1757-12-31   450719.0     1.0     9.166667         0.05         -99.0   \n",
      "1758-12-31   450719.0     1.0     9.358333         0.05         -99.0   \n",
      "1759-12-31   450719.0     1.0     9.925000         0.05         -99.0   \n",
      "1760-12-31   450719.0     1.0     8.916667         0.05         -99.0   \n",
      "1761-12-31   450719.0     1.0     9.225000         0.05         -99.0   \n",
      "1762-12-31   450719.0     1.0     8.391667         0.05         -99.0   \n",
      "1763-12-31   450719.0     1.0     8.058333         0.05         -99.0   \n",
      "1764-12-31   450719.0     1.0     9.166667         0.05         -99.0   \n",
      "1765-12-31   450719.0     1.0     9.116667         0.05         -99.0   \n",
      "1766-12-31   450719.0     1.0     8.891667         0.05         -99.0   \n",
      "1767-12-31   450719.0     1.0     8.458333         0.05         -99.0   \n",
      "1768-12-31   450719.0     1.0     8.550000         0.05         -99.0   \n",
      "1769-12-31   450719.0     1.0     8.925000         0.05         -99.0   \n",
      "\n",
      "            TimeOfObservations        MA  \n",
      "Date                                      \n",
      "1750-12-31               -99.0  9.183333  \n",
      "1751-12-31               -99.0  9.183333  \n",
      "1752-12-31               -99.0  9.183333  \n",
      "1753-12-31               -99.0  9.183333  \n",
      "1754-12-31               -99.0  9.183333  \n",
      "1755-12-31               -99.0  9.183333  \n",
      "1756-12-31               -99.0  9.183333  \n",
      "1757-12-31               -99.0  9.183333  \n",
      "1758-12-31               -99.0  9.183333  \n",
      "1759-12-31               -99.0  9.183333  \n",
      "1760-12-31               -99.0  9.119167  \n",
      "1761-12-31               -99.0  9.180000  \n",
      "1762-12-31               -99.0  9.060000  \n",
      "1763-12-31               -99.0  8.944167  \n",
      "1764-12-31               -99.0  8.997500  \n",
      "1765-12-31               -99.0  9.047500  \n",
      "1766-12-31               -99.0  9.021667  \n",
      "1767-12-31               -99.0  8.950833  \n",
      "1768-12-31               -99.0  8.870000  \n",
      "1769-12-31               -99.0  8.770000  \n"
     ]
    }
   ],
   "source": [
    "# function to return the data of each station resampled by year\n",
    "def selecting_stations_from_df_and_group_it_by_year(df, station, column):\n",
    "    rows_with_station = df.iloc[:,0].str.contains(str(station))\n",
    "    df_with_station = df[rows_with_station]\n",
    "    df_with_station[column] = df_with_station.iloc[:,0].astype(float)\n",
    "    df_with_station.index = pd.to_datetime(df_with_station.index, format= \"%Y-%m-%d\")\n",
    "    df_with_station_annual = df_with_station.resample('A').mean()\n",
    "    return df_with_station_annual\n",
    "\n",
    "# function to calculated the moving average of each station during 10 years\n",
    "def calculating_moving_average_for_10_years(df, column, new_column):\n",
    "    df[new_column] = df[column].rolling(window=10).mean()\n",
    "    df[new_column] = df[new_column].fillna(method='bfill')\n",
    "    return df\n",
    "\n",
    "# StationID 577531\n",
    "station_577531_annual = selecting_stations_from_df_and_group_it_by_year(period_to_analyze, 577531, 'StationID')\n",
    "station_577531_annual_with_moving_average = calculating_moving_average_for_10_years(station_577531_annual, 'Temperature', 'MA')\n",
    "print(station_577531_annual_with_moving_average.head(20))\n",
    "\n",
    "# StationID 450719\n",
    "station_450719_annual = selecting_stations_from_df_and_group_it_by_year(period_to_analyze, 450719, 'StationID')\n",
    "station_450719_annual_with_moving_average = calculating_moving_average_for_10_years(station_450719_annual, 'Temperature', 'MA')\n",
    "print(station_450719_annual_with_moving_average.head(20))\n",
    "    "
   ]
  },
  {
   "cell_type": "markdown",
   "metadata": {},
   "source": [
    "## Plotting of the station corresponding to StationID 577531, which was present during the whole period\n",
    "\n",
    "As it was experienced before, the annual average evolution shows a lot of noise. However the moving average shows also an increasing trend on temperature when approximating to 2019, without noise, which will serve us as prove to tell our friend that climate change is real. "
   ]
  },
  {
   "cell_type": "code",
   "execution_count": 22,
   "metadata": {},
   "outputs": [
    {
     "data": {
      "image/png": "[encoded data removed]",
      "text/plain": [
       "<Figure size 432x432 with 1 Axes>"
      ]
     },
     "metadata": {
      "needs_background": "light"
     },
     "output_type": "display_data"
    }
   ],
   "source": [
    "fig, ax = plt.subplots(figsize=(6,6))\n",
    "sns.lineplot(x=station_577531_annual_with_moving_average.index, \n",
    "             y='Temperature',\n",
    "             color='r',\n",
    "           data= station_577531_annual_with_moving_average)\n",
    "sns.lineplot(x=station_577531_annual_with_moving_average.index, \n",
    "             y='MA', \n",
    "             color='b', \n",
    "            data= station_577531_annual_with_moving_average)    \n",
    "ax.legend(['Average temperature', 'Moving average 10 years'], facecolor='w')\n",
    "plt.ylabel('Temperature')\n",
    "plt.show()"
   ]
  },
  {
   "cell_type": "markdown",
   "metadata": {},
   "source": [
    "## Plotting of the station corresponding to StationID 577531, which was present during the whole period\n",
    "\n",
    "Same reasoning as the plot we just saw before."
   ]
  },
  {
   "cell_type": "code",
   "execution_count": 23,
   "metadata": {},
   "outputs": [
    {
     "data": {
      "image/png": "[encoded data removed]",
      "text/plain": [
       "<Figure size 432x432 with 1 Axes>"
      ]
     },
     "metadata": {
      "needs_background": "light"
     },
     "output_type": "display_data"
    }
   ],
   "source": [
    "fig, ax = plt.subplots(figsize=(6,6))\n",
    "sns.lineplot(x=station_450719_annual_with_moving_average.index, \n",
    "             y='Temperature',\n",
    "             color='r',\n",
    "           data= station_450719_annual_with_moving_average)\n",
    "sns.lineplot(x=station_450719_annual_with_moving_average.index, \n",
    "             y='MA', \n",
    "             color='b', \n",
    "            data= station_450719_annual_with_moving_average)    \n",
    "ax.legend(['Average temperature', 'Moving average 10 years'], facecolor='w')\n",
    "plt.ylabel('Temperature')\n",
    "plt.show()"
   ]
  },
  {
   "cell_type": "code",
   "execution_count": null,
   "metadata": {},
   "outputs": [],
   "source": []
  },
  {
   "cell_type": "code",
   "execution_count": null,
   "metadata": {},
   "outputs": [],
   "source": []
  }
 ],
 "metadata": {
  "kernelspec": {
   "display_name": "Python 3",
   "language": "python",
   "name": "python3"
  },
  "language_info": {
   "codemirror_mode": {
    "name": "ipython",
    "version": 3
   },
   "file_extension": ".py",
   "mimetype": "text/x-python",
   "name": "python",
   "nbconvert_exporter": "python",
   "pygments_lexer": "ipython3",
   "version": "3.7.4"
  }
 },
 "nbformat": 4,
 "nbformat_minor": 2
}
